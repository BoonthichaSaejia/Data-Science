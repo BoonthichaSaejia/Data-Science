{
 "cells": [
  {
   "cell_type": "code",
   "execution_count": 1,
   "metadata": {},
   "outputs": [],
   "source": [
    "class Boss:\n",
    "    def __init__(self,name,attitude,behavior,rating):\n",
    "        self.name=name\n",
    "        self.attitude=attitude\n",
    "        self.behavior=behavior\n",
    "        self.rating=rating\n",
    "    def getName(self):\n",
    "        return self.name\n",
    "    def getAttitude(self):\n",
    "        return self.attitude\n",
    "    def getBehavior(self):\n",
    "        return self.behavior\n",
    "    def getRating(self):\n",
    "        return self.rating\n",
    "    \n",
    "class GoodBoss:\n",
    "    def __init__(self,name,attitude,behavior,rating):\n",
    "        self.goodBoss=Boss(name,attitude,behavior,rating)\n",
    "    def getName(self):\n",
    "        return self.goodBoss.getName()\n",
    "    def getAttitude(self):\n",
    "        return self.goodBoss.getAttitude()\n",
    "    def getBehavior(self):\n",
    "        return self.goodBoss.getBehavior()\n",
    "    def getRating(self):\n",
    "        return self.goodBoss.getRating()\n",
    "    def leadbyExample(self):\n",
    "        print(\"With\",self.goodBoss.getName(),\"leading, employees put their talents to good use.\")\n",
    "    def encourage(self):\n",
    "        print(\"With\",self.goodBoss.getName(),\", employees feel happy, positive, and supported.\")\n",
    "\n",
    "class BadBoss:\n",
    "    def __init__(self,name,attitude,behavior,rating):\n",
    "        self.badBoss=Boss(name,attitude,behavior,rating)\n",
    "    def getName(self):\n",
    "        return self.badBoss.getName()\n",
    "    def getAttitude(self):\n",
    "        return self.badBoss.getAttitude()\n",
    "    def getBehavior(self):\n",
    "        return self.badBoss.getBehavior()\n",
    "    def getRating(self):\n",
    "        return self.badBoss.getRating()\n",
    "    def blameOthers(self):\n",
    "        print(\"The employees feel resentment and anger\")\n",
    "    def yell(self):\n",
    "        print(\"Everyone stares while\",self.badBoss.getName(),\"yell.\")"
   ]
  },
  {
   "cell_type": "code",
   "execution_count": 3,
   "metadata": {},
   "outputs": [
    {
     "name": "stdout",
     "output_type": "stream",
     "text": [
      "Collecting package metadata (repodata.json): done\n",
      "Solving environment: failed with initial frozen solve. Retrying with flexible solve.\n",
      "\n",
      "PackagesNotFoundError: The following packages are not available from current channels:\n",
      "\n",
      "  - graphics\n",
      "\n",
      "Current channels:\n",
      "\n",
      "  - https://repo.anaconda.com/pkgs/main/osx-64\n",
      "  - https://repo.anaconda.com/pkgs/main/noarch\n",
      "  - https://repo.anaconda.com/pkgs/r/osx-64\n",
      "  - https://repo.anaconda.com/pkgs/r/noarch\n",
      "\n",
      "To search for alternate channels that may provide the conda package you're\n",
      "looking for, navigate to\n",
      "\n",
      "    https://anaconda.org\n",
      "\n",
      "and use the search bar at the top of the page.\n",
      "\n",
      "\n"
     ]
    }
   ],
   "source": [
    "!conda install graphics --yes"
   ]
  },
  {
   "cell_type": "code",
   "execution_count": 4,
   "metadata": {},
   "outputs": [],
   "source": [
    "from graphics import *"
   ]
  },
  {
   "cell_type": "code",
   "execution_count": 5,
   "metadata": {},
   "outputs": [
    {
     "ename": "NameError",
     "evalue": "name 'graphics' is not defined",
     "output_type": "error",
     "traceback": [
      "\u001b[0;31m---------------------------------------------------------------------------\u001b[0m",
      "\u001b[0;31mNameError\u001b[0m                                 Traceback (most recent call last)",
      "\u001b[0;32m<ipython-input-5-5532a53d3885>\u001b[0m in \u001b[0;36m<module>\u001b[0;34m\u001b[0m\n\u001b[0;32m----> 1\u001b[0;31m \u001b[0mhelp\u001b[0m\u001b[0;34m(\u001b[0m\u001b[0mgraphics\u001b[0m\u001b[0;34m)\u001b[0m\u001b[0;34m\u001b[0m\u001b[0;34m\u001b[0m\u001b[0m\n\u001b[0m",
      "\u001b[0;31mNameError\u001b[0m: name 'graphics' is not defined"
     ]
    }
   ],
   "source": []
  },
  {
   "cell_type": "code",
   "execution_count": null,
   "metadata": {},
   "outputs": [],
   "source": []
  }
 ],
 "metadata": {
  "kernelspec": {
   "display_name": "Python 3",
   "language": "python",
   "name": "python3"
  },
  "language_info": {
   "codemirror_mode": {
    "name": "ipython",
    "version": 3
   },
   "file_extension": ".py",
   "mimetype": "text/x-python",
   "name": "python",
   "nbconvert_exporter": "python",
   "pygments_lexer": "ipython3",
   "version": "3.7.2"
  }
 },
 "nbformat": 4,
 "nbformat_minor": 4
}
