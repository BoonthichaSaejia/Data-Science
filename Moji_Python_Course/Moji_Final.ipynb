{
 "cells": [
  {
   "cell_type": "markdown",
   "metadata": {},
   "source": [
    "# Q4."
   ]
  },
  {
   "cell_type": "code",
   "execution_count": 7,
   "metadata": {},
   "outputs": [
    {
     "name": "stdout",
     "output_type": "stream",
     "text": [
      "Player  Good Guy is running...\n",
      "Player  Good Guy ,is jumping...\n",
      "Player  Bad Guy is running...\n",
      "Player  Bad Guy ,is jumping...\n",
      "Player  Good Guy has a health of  10\n",
      "Player  Good Guy has a health of  30\n"
     ]
    }
   ],
   "source": [
    "class Player:\n",
    "    def __init__(self,name,health):\n",
    "        self.name=name\n",
    "        self.health=int(health)\n",
    "    def getName(self):\n",
    "        return self.name\n",
    "    def getHealth(self):\n",
    "        return self.health\n",
    "    def run(self):\n",
    "        print(\"Player \",self.getName(),\"is running...\")\n",
    "    def jump(self):\n",
    "        print(\"Player \",self.getName(),\",is jumping...\")\n",
    "    def setHealth(self,health):\n",
    "        self.health=int(health)\n",
    "        return self.health\n",
    "\n",
    "    \n",
    "def main():\n",
    "    p1=Player(\"Good Guy\",10)\n",
    "    p2=Player(\"Bad Guy\",20)\n",
    "    \n",
    "    p1.run()\n",
    "    p1.jump()\n",
    "    \n",
    "    p2.run()\n",
    "    p2.jump()\n",
    "    \n",
    "    print(\"Player \",p1.getName(),\"has a health of \",p1.getHealth())\n",
    "    p1.setHealth(30)\n",
    "    print(\"Player \",p1.getName(),\"has a health of \",p1.getHealth())\n",
    "    \n",
    "main()"
   ]
  },
  {
   "cell_type": "markdown",
   "metadata": {},
   "source": [
    "# Q5."
   ]
  },
  {
   "cell_type": "code",
   "execution_count": 18,
   "metadata": {},
   "outputs": [
    {
     "name": "stdout",
     "output_type": "stream",
     "text": [
      "Arrows for Good Guy : 5\n",
      "SHOOT!\n",
      "SHOOT!\n",
      "SHOOT!\n",
      "SHOOT!\n",
      "SHOOT!\n",
      "Arrows for Good Guy : 0\n",
      "Number of heros stomped for Bad Guy : 0\n",
      "STOMP!\n",
      "Number of heros stomped for Bad Guy : 1\n"
     ]
    }
   ],
   "source": [
    "class Player:\n",
    "    def __init__(self,name,health):\n",
    "        self.name=name\n",
    "        self.health=int(health)\n",
    "    def getName(self):\n",
    "        return self.name\n",
    "    def getHealth(self):\n",
    "        return self.health\n",
    "    def run(self):\n",
    "        print(\"Player \",self.getName(),\"is running...\")\n",
    "    def jump(self):\n",
    "        print(\"Player \",self.getName(),\",is jumping...\")\n",
    "    def setHealth(self,health):\n",
    "        self.health=int(health)\n",
    "        return self.health\n",
    "\n",
    "class GoodGuy:\n",
    "    def __init__(self,name,health,arrows):\n",
    "        self.goodGuy=Player(name,health)\n",
    "        self.arrows=arrows\n",
    "    def getName(self):\n",
    "        return self.goodGuy.name\n",
    "    def getHealth(self):\n",
    "        return self.goodGuy.health\n",
    "    def getArrows(self):\n",
    "        return self.arrows\n",
    "    def shoot(self):\n",
    "        if self.arrows!=0:\n",
    "            print(\"SHOOT!\")\n",
    "            self.arrows=self.arrows-1\n",
    "        else:\n",
    "            print(self.getName(),\"don't have enough arrows.\")\n",
    "\n",
    "class BadGuy:\n",
    "    def __init__(self,name,health):\n",
    "        self.badGuy=Player(name,health)\n",
    "        self.stomped=0\n",
    "    def getName(self):\n",
    "        return self.badGuy.name\n",
    "    def getHealth(self):\n",
    "        return self.badGuy.health\n",
    "    def getStomped(self):\n",
    "        return self.stomped\n",
    "    def stomp(self):\n",
    "        print(\"STOMP!\")\n",
    "        self.stomped=self.stomped+1\n",
    "        \n",
    "    \n",
    "def main():\n",
    "    goodG=GoodGuy(\"Good Guy\",10,5)\n",
    "    \n",
    "    badG=BadGuy(\"Bad Guy\",20)\n",
    "    \n",
    "    print(\"Arrows for\",goodG.getName(),\":\",goodG.getArrows())\n",
    "    goodG.shoot()\n",
    "    goodG.shoot()\n",
    "    print(\"Arrows for\",goodG.getName(),\":\",goodG.getArrows())\n",
    "    \n",
    "    print(\"Number of heros stomped for\",badG.getName(),\":\",badG.getStomped())\n",
    "    badG.stomp()\n",
    "    print(\"Number of heros stomped for\",badG.getName(),\":\",badG.getStomped())\n",
    "    \n",
    "main()\n",
    "\n"
   ]
  },
  {
   "cell_type": "markdown",
   "metadata": {},
   "source": [
    "# Q3."
   ]
  },
  {
   "cell_type": "code",
   "execution_count": 49,
   "metadata": {},
   "outputs": [
    {
     "name": "stdout",
     "output_type": "stream",
     "text": [
      "Enter in a number:4\n",
      "The starting list is: [6, 3, 7, 2, 4, 5, 1]\n",
      "The list ascending is: [1, 2, 3, 4, 5, 6, 7]\n",
      "The list descending is: [7, 6, 5, 4, 3, 2, 1]\n",
      "The shortlist is: [7, 6, 5, 4]\n"
     ]
    }
   ],
   "source": [
    "sort=[6,3,7,2,4,5,1]\n",
    "num=int(input(\"Enter in a number:\"))\n",
    "print(\"The starting list is:\",sort)\n",
    "sort.sort()\n",
    "print(\"The list ascending is:\",sort)\n",
    "sort.sort(reverse=True)\n",
    "print(\"The list descending is:\",sort)\n",
    "sort_2=[x for x in sort if x>=num]\n",
    "print(\"The shortlist is:\",sort_2)"
   ]
  },
  {
   "cell_type": "markdown",
   "metadata": {},
   "source": [
    "# Q2."
   ]
  },
  {
   "cell_type": "code",
   "execution_count": 48,
   "metadata": {},
   "outputs": [
    {
     "name": "stdout",
     "output_type": "stream",
     "text": [
      "Enter in a sentence:This has many four words\n",
      "****  has  ****  ****  words \n"
     ]
    }
   ],
   "source": [
    "a=input(\"Enter in a sentence:\")\n",
    "b=[]\n",
    "c=a.split()\n",
    "for i in c:\n",
    "    if len(i)==4:\n",
    "        i=\"****\"\n",
    "    b.append(i+\" \")\n",
    "listToStr = ' '.join([str(word) for word in b]) \n",
    "print(listToStr)  "
   ]
  },
  {
   "cell_type": "code",
   "execution_count": null,
   "metadata": {},
   "outputs": [],
   "source": []
  }
 ],
 "metadata": {
  "kernelspec": {
   "display_name": "Python 3",
   "language": "python",
   "name": "python3"
  },
  "language_info": {
   "codemirror_mode": {
    "name": "ipython",
    "version": 3
   },
   "file_extension": ".py",
   "mimetype": "text/x-python",
   "name": "python",
   "nbconvert_exporter": "python",
   "pygments_lexer": "ipython3",
   "version": "3.7.2"
  }
 },
 "nbformat": 4,
 "nbformat_minor": 4
}
