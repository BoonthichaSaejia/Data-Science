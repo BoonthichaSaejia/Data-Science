{
 "cells": [
  {
   "cell_type": "code",
   "execution_count": 22,
   "metadata": {},
   "outputs": [
    {
     "name": "stdout",
     "output_type": "stream",
     "text": [
      "FIRST, A GOOD BOSS!!\n",
      "Jane is a good boss.\n",
      "The attitude of Jane is: Positive\n",
      "The usual behavior for Jane : Smiling\n",
      "With Jane leading, employees put their talents to good use.\n",
      "With Jane , employees feel happy, positive, and supported.\n",
      "Jane has a rating (1-10) of: 9\n",
      " \n",
      "NEXT, A BAD BOSS!!\n",
      "John is a bad boss.\n",
      "The attitude of John is: Angry\n",
      "The usual behavior for John : Scowling\n",
      "The employees feel resentment and anger\n",
      "Everyone stares while John yell.\n",
      "John has a rating (1-10) of: 2\n"
     ]
    }
   ],
   "source": [
    "from Boss import Boss\n",
    "\n",
    "def main():\n",
    "    #GOOD BOSS\n",
    "    print(\"FIRST, A GOOD BOSS!!\")\n",
    "    goodboss=GoodBoss(\"Jane\",\"Positive\",\"Smiling\",9)\n",
    "    print(goodboss.getName(),\"is a good boss.\")\n",
    "    print(\"The attitude of\", goodboss.getName(),\"is:\",goodboss.getAttitude())\n",
    "    print(\"The usual behavior for\",goodboss.getName(),\":\",goodboss.getBehavior())\n",
    "    goodboss.leadbyExample()\n",
    "    goodboss.encourage()\n",
    "    print(goodboss.getName(),\"has a rating (1-10) of:\", goodboss.getRating())\n",
    "    \n",
    "    print(\" \")\n",
    "    #BADBOSS\n",
    "    print(\"NEXT, A BAD BOSS!!\")\n",
    "    badboss=BadBoss(\"John\",\"Angry\",\"Scowling\",2)\n",
    "    print(badboss.getName(),\"is a bad boss.\")\n",
    "    print(\"The attitude of\", badboss.getName(),\"is:\",badboss.getAttitude())\n",
    "    print(\"The usual behavior for\",badboss.getName(),\":\",badboss.getBehavior())\n",
    "    badboss.blameOthers()\n",
    "    badboss.yell()\n",
    "    print(badboss.getName(),\"has a rating (1-10) of:\", badboss.getRating())\n",
    "\n",
    "main()\n",
    "    "
   ]
  },
  {
   "cell_type": "code",
   "execution_count": null,
   "metadata": {},
   "outputs": [],
   "source": []
  }
 ],
 "metadata": {
  "kernelspec": {
   "display_name": "Python 3",
   "language": "python",
   "name": "python3"
  },
  "language_info": {
   "codemirror_mode": {
    "name": "ipython",
    "version": 3
   },
   "file_extension": ".py",
   "mimetype": "text/x-python",
   "name": "python",
   "nbconvert_exporter": "python",
   "pygments_lexer": "ipython3",
   "version": "3.7.2"
  }
 },
 "nbformat": 4,
 "nbformat_minor": 4
}
