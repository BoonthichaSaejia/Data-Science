{
  "nbformat": 4,
  "nbformat_minor": 0,
  "metadata": {
    "colab": {
      "name": "Mui_Week3 : DSE ML Pipeline Part 1.ipynb",
      "provenance": [],
      "toc_visible": true,
      "include_colab_link": true
    },
    "kernelspec": {
      "name": "python3",
      "display_name": "Python 3"
    }
  },
  "cells": [
    {
      "cell_type": "markdown",
      "metadata": {
        "id": "view-in-github",
        "colab_type": "text"
      },
      "source": [
        "<a href=\"https://colab.research.google.com/github/BoonthichaSaejia/Data_Science/blob/master/Mui_Week3_DSE_ML_Pipeline_Part_1.ipynb\" target=\"_parent\"><img src=\"https://colab.research.google.com/assets/colab-badge.svg\" alt=\"Open In Colab\"/></a>"
      ]
    },
    {
      "cell_type": "markdown",
      "metadata": {
        "id": "TAM1Z3OAXUsz",
        "colab_type": "text"
      },
      "source": [
        "#Machine Learning Pipeline\n",
        "\n"
      ]
    },
    {
      "cell_type": "code",
      "metadata": {
        "id": "zDamksMuVSto",
        "colab_type": "code",
        "colab": {}
      },
      "source": [
        "import numpy as np\n",
        "import pandas as pd"
      ],
      "execution_count": null,
      "outputs": []
    },
    {
      "cell_type": "code",
      "metadata": {
        "id": "_NhzZBXQWG5v",
        "colab_type": "code",
        "colab": {
          "base_uri": "https://localhost:8080/",
          "height": 151
        },
        "outputId": "81a4e339-c45a-4271-c14d-3ab2cae2c53b"
      },
      "source": [
        "# Load data from google drive\n",
        "!gdown --id 1ekwruBWltF4WisaY15R15sqWcNnY16i7\n",
        "!unzip datasets.zip"
      ],
      "execution_count": null,
      "outputs": [
        {
          "output_type": "stream",
          "text": [
            "Downloading...\n",
            "From: https://drive.google.com/uc?id=1ekwruBWltF4WisaY15R15sqWcNnY16i7\n",
            "To: /content/datasets.zip\n",
            "\r  0% 0.00/64.7k [00:00<?, ?B/s]\r100% 64.7k/64.7k [00:00<00:00, 23.3MB/s]\n",
            "Archive:  datasets.zip\n",
            "  inflating: news_sample.csv         \n",
            "  inflating: titanic.csv             \n",
            "  inflating: mushroom_data.csv       \n"
          ],
          "name": "stdout"
        }
      ]
    },
    {
      "cell_type": "markdown",
      "metadata": {
        "id": "-3y_EeMAlcNQ",
        "colab_type": "text"
      },
      "source": [
        "# 1. Get data"
      ]
    },
    {
      "cell_type": "code",
      "metadata": {
        "id": "xEZ-O82xZ1vS",
        "colab_type": "code",
        "colab": {}
      },
      "source": [
        "def getinitialfeature(df):\n",
        "  initial = []\n",
        "  for i in range(len(df)):\n",
        "    fn = df['Name'].values[i]\n",
        "    initial.append(fn.split(',')[1].split('.')[0].strip())\n",
        "  df['initial'] = initial\n",
        "  initialdummy = pd.get_dummies(df['initial'])\n",
        "  return initialdummy"
      ],
      "execution_count": null,
      "outputs": []
    },
    {
      "cell_type": "code",
      "metadata": {
        "id": "j23pHzQ9mPhg",
        "colab_type": "code",
        "colab": {}
      },
      "source": [
        "def load_data():\n",
        "  titanic_df = pd.read_csv('titanic.csv')\n",
        "  train_df = titanic_df.iloc[0:712, :]\n",
        "  test_df = titanic_df.iloc[712:, :]\n",
        "  dat = pd.concat([train_df,test_df])\n",
        "  idat = getinitialfeature(dat)\n",
        "  dat = pd.concat([dat,idat],axis=1)\n",
        "  train_df = dat.iloc[0:len(train_df)]\n",
        "  test_df = dat.iloc[len(train_df):]\n",
        "  return train_df, test_df"
      ],
      "execution_count": null,
      "outputs": []
    },
    {
      "cell_type": "code",
      "metadata": {
        "id": "u1MLilwBMtjq",
        "colab_type": "code",
        "colab": {}
      },
      "source": [
        "train_df, test_df = load_data()"
      ],
      "execution_count": null,
      "outputs": []
    },
    {
      "cell_type": "code",
      "metadata": {
        "id": "HBXMlPZqMxbU",
        "colab_type": "code",
        "colab": {
          "base_uri": "https://localhost:8080/",
          "height": 501
        },
        "outputId": "fd4d42a0-01ae-4662-a457-e425b2682a76"
      },
      "source": [
        "train_df.head()"
      ],
      "execution_count": null,
      "outputs": [
        {
          "output_type": "execute_result",
          "data": {
            "text/html": [
              "<div>\n",
              "<style scoped>\n",
              "    .dataframe tbody tr th:only-of-type {\n",
              "        vertical-align: middle;\n",
              "    }\n",
              "\n",
              "    .dataframe tbody tr th {\n",
              "        vertical-align: top;\n",
              "    }\n",
              "\n",
              "    .dataframe thead th {\n",
              "        text-align: right;\n",
              "    }\n",
              "</style>\n",
              "<table border=\"1\" class=\"dataframe\">\n",
              "  <thead>\n",
              "    <tr style=\"text-align: right;\">\n",
              "      <th></th>\n",
              "      <th>PassengerId</th>\n",
              "      <th>Survived</th>\n",
              "      <th>Pclass</th>\n",
              "      <th>Name</th>\n",
              "      <th>Sex</th>\n",
              "      <th>Age</th>\n",
              "      <th>SibSp</th>\n",
              "      <th>Parch</th>\n",
              "      <th>Ticket</th>\n",
              "      <th>Fare</th>\n",
              "      <th>Cabin</th>\n",
              "      <th>Embarked</th>\n",
              "      <th>initial</th>\n",
              "      <th>Capt</th>\n",
              "      <th>Col</th>\n",
              "      <th>Don</th>\n",
              "      <th>Dr</th>\n",
              "      <th>Jonkheer</th>\n",
              "      <th>Lady</th>\n",
              "      <th>Major</th>\n",
              "      <th>Master</th>\n",
              "      <th>Miss</th>\n",
              "      <th>Mlle</th>\n",
              "      <th>Mme</th>\n",
              "      <th>Mr</th>\n",
              "      <th>Mrs</th>\n",
              "      <th>Ms</th>\n",
              "      <th>Rev</th>\n",
              "      <th>Sir</th>\n",
              "      <th>the Countess</th>\n",
              "    </tr>\n",
              "  </thead>\n",
              "  <tbody>\n",
              "    <tr>\n",
              "      <th>0</th>\n",
              "      <td>1</td>\n",
              "      <td>0</td>\n",
              "      <td>3</td>\n",
              "      <td>Braund, Mr. Owen Harris</td>\n",
              "      <td>male</td>\n",
              "      <td>22.0</td>\n",
              "      <td>1</td>\n",
              "      <td>0</td>\n",
              "      <td>A/5 21171</td>\n",
              "      <td>7.2500</td>\n",
              "      <td>NaN</td>\n",
              "      <td>S</td>\n",
              "      <td>Mr</td>\n",
              "      <td>0</td>\n",
              "      <td>0</td>\n",
              "      <td>0</td>\n",
              "      <td>0</td>\n",
              "      <td>0</td>\n",
              "      <td>0</td>\n",
              "      <td>0</td>\n",
              "      <td>0</td>\n",
              "      <td>0</td>\n",
              "      <td>0</td>\n",
              "      <td>0</td>\n",
              "      <td>1</td>\n",
              "      <td>0</td>\n",
              "      <td>0</td>\n",
              "      <td>0</td>\n",
              "      <td>0</td>\n",
              "      <td>0</td>\n",
              "    </tr>\n",
              "    <tr>\n",
              "      <th>1</th>\n",
              "      <td>2</td>\n",
              "      <td>1</td>\n",
              "      <td>1</td>\n",
              "      <td>Cumings, Mrs. John Bradley (Florence Briggs Th...</td>\n",
              "      <td>female</td>\n",
              "      <td>38.0</td>\n",
              "      <td>1</td>\n",
              "      <td>0</td>\n",
              "      <td>PC 17599</td>\n",
              "      <td>71.2833</td>\n",
              "      <td>C85</td>\n",
              "      <td>C</td>\n",
              "      <td>Mrs</td>\n",
              "      <td>0</td>\n",
              "      <td>0</td>\n",
              "      <td>0</td>\n",
              "      <td>0</td>\n",
              "      <td>0</td>\n",
              "      <td>0</td>\n",
              "      <td>0</td>\n",
              "      <td>0</td>\n",
              "      <td>0</td>\n",
              "      <td>0</td>\n",
              "      <td>0</td>\n",
              "      <td>0</td>\n",
              "      <td>1</td>\n",
              "      <td>0</td>\n",
              "      <td>0</td>\n",
              "      <td>0</td>\n",
              "      <td>0</td>\n",
              "    </tr>\n",
              "    <tr>\n",
              "      <th>2</th>\n",
              "      <td>3</td>\n",
              "      <td>1</td>\n",
              "      <td>3</td>\n",
              "      <td>Heikkinen, Miss. Laina</td>\n",
              "      <td>female</td>\n",
              "      <td>26.0</td>\n",
              "      <td>0</td>\n",
              "      <td>0</td>\n",
              "      <td>STON/O2. 3101282</td>\n",
              "      <td>7.9250</td>\n",
              "      <td>NaN</td>\n",
              "      <td>S</td>\n",
              "      <td>Miss</td>\n",
              "      <td>0</td>\n",
              "      <td>0</td>\n",
              "      <td>0</td>\n",
              "      <td>0</td>\n",
              "      <td>0</td>\n",
              "      <td>0</td>\n",
              "      <td>0</td>\n",
              "      <td>0</td>\n",
              "      <td>1</td>\n",
              "      <td>0</td>\n",
              "      <td>0</td>\n",
              "      <td>0</td>\n",
              "      <td>0</td>\n",
              "      <td>0</td>\n",
              "      <td>0</td>\n",
              "      <td>0</td>\n",
              "      <td>0</td>\n",
              "    </tr>\n",
              "    <tr>\n",
              "      <th>3</th>\n",
              "      <td>4</td>\n",
              "      <td>1</td>\n",
              "      <td>1</td>\n",
              "      <td>Futrelle, Mrs. Jacques Heath (Lily May Peel)</td>\n",
              "      <td>female</td>\n",
              "      <td>35.0</td>\n",
              "      <td>1</td>\n",
              "      <td>0</td>\n",
              "      <td>113803</td>\n",
              "      <td>53.1000</td>\n",
              "      <td>C123</td>\n",
              "      <td>S</td>\n",
              "      <td>Mrs</td>\n",
              "      <td>0</td>\n",
              "      <td>0</td>\n",
              "      <td>0</td>\n",
              "      <td>0</td>\n",
              "      <td>0</td>\n",
              "      <td>0</td>\n",
              "      <td>0</td>\n",
              "      <td>0</td>\n",
              "      <td>0</td>\n",
              "      <td>0</td>\n",
              "      <td>0</td>\n",
              "      <td>0</td>\n",
              "      <td>1</td>\n",
              "      <td>0</td>\n",
              "      <td>0</td>\n",
              "      <td>0</td>\n",
              "      <td>0</td>\n",
              "    </tr>\n",
              "    <tr>\n",
              "      <th>4</th>\n",
              "      <td>5</td>\n",
              "      <td>0</td>\n",
              "      <td>3</td>\n",
              "      <td>Allen, Mr. William Henry</td>\n",
              "      <td>male</td>\n",
              "      <td>35.0</td>\n",
              "      <td>0</td>\n",
              "      <td>0</td>\n",
              "      <td>373450</td>\n",
              "      <td>8.0500</td>\n",
              "      <td>NaN</td>\n",
              "      <td>S</td>\n",
              "      <td>Mr</td>\n",
              "      <td>0</td>\n",
              "      <td>0</td>\n",
              "      <td>0</td>\n",
              "      <td>0</td>\n",
              "      <td>0</td>\n",
              "      <td>0</td>\n",
              "      <td>0</td>\n",
              "      <td>0</td>\n",
              "      <td>0</td>\n",
              "      <td>0</td>\n",
              "      <td>0</td>\n",
              "      <td>1</td>\n",
              "      <td>0</td>\n",
              "      <td>0</td>\n",
              "      <td>0</td>\n",
              "      <td>0</td>\n",
              "      <td>0</td>\n",
              "    </tr>\n",
              "  </tbody>\n",
              "</table>\n",
              "</div>"
            ],
            "text/plain": [
              "   PassengerId  Survived  Pclass  ... Rev Sir  the Countess\n",
              "0            1         0       3  ...   0   0             0\n",
              "1            2         1       1  ...   0   0             0\n",
              "2            3         1       3  ...   0   0             0\n",
              "3            4         1       1  ...   0   0             0\n",
              "4            5         0       3  ...   0   0             0\n",
              "\n",
              "[5 rows x 30 columns]"
            ]
          },
          "metadata": {
            "tags": []
          },
          "execution_count": 57
        }
      ]
    },
    {
      "cell_type": "code",
      "metadata": {
        "id": "rtyocTA4M0jq",
        "colab_type": "code",
        "colab": {
          "base_uri": "https://localhost:8080/",
          "height": 538
        },
        "outputId": "63740792-975a-4fa5-e921-db27534ad693"
      },
      "source": [
        "train_df.isna().sum()"
      ],
      "execution_count": null,
      "outputs": [
        {
          "output_type": "execute_result",
          "data": {
            "text/plain": [
              "PassengerId       0\n",
              "Survived          0\n",
              "Pclass            0\n",
              "Name              0\n",
              "Sex               0\n",
              "Age             147\n",
              "SibSp             0\n",
              "Parch             0\n",
              "Ticket            0\n",
              "Fare              0\n",
              "Cabin           550\n",
              "Embarked          1\n",
              "initial           0\n",
              "Capt              0\n",
              "Col               0\n",
              "Don               0\n",
              "Dr                0\n",
              "Jonkheer          0\n",
              "Lady              0\n",
              "Major             0\n",
              "Master            0\n",
              "Miss              0\n",
              "Mlle              0\n",
              "Mme               0\n",
              "Mr                0\n",
              "Mrs               0\n",
              "Ms                0\n",
              "Rev               0\n",
              "Sir               0\n",
              "the Countess      0\n",
              "dtype: int64"
            ]
          },
          "metadata": {
            "tags": []
          },
          "execution_count": 58
        }
      ]
    },
    {
      "cell_type": "code",
      "metadata": {
        "id": "mqruSD5UM7hk",
        "colab_type": "code",
        "colab": {
          "base_uri": "https://localhost:8080/",
          "height": 321
        },
        "outputId": "375955f8-3265-4e8d-a47a-9ed8b4647849"
      },
      "source": [
        "train_df.describe()"
      ],
      "execution_count": null,
      "outputs": [
        {
          "output_type": "execute_result",
          "data": {
            "text/html": [
              "<div>\n",
              "<style scoped>\n",
              "    .dataframe tbody tr th:only-of-type {\n",
              "        vertical-align: middle;\n",
              "    }\n",
              "\n",
              "    .dataframe tbody tr th {\n",
              "        vertical-align: top;\n",
              "    }\n",
              "\n",
              "    .dataframe thead th {\n",
              "        text-align: right;\n",
              "    }\n",
              "</style>\n",
              "<table border=\"1\" class=\"dataframe\">\n",
              "  <thead>\n",
              "    <tr style=\"text-align: right;\">\n",
              "      <th></th>\n",
              "      <th>PassengerId</th>\n",
              "      <th>Survived</th>\n",
              "      <th>Pclass</th>\n",
              "      <th>Age</th>\n",
              "      <th>SibSp</th>\n",
              "      <th>Parch</th>\n",
              "      <th>Fare</th>\n",
              "      <th>Capt</th>\n",
              "      <th>Col</th>\n",
              "      <th>Don</th>\n",
              "      <th>Dr</th>\n",
              "      <th>Jonkheer</th>\n",
              "      <th>Lady</th>\n",
              "      <th>Major</th>\n",
              "      <th>Master</th>\n",
              "      <th>Miss</th>\n",
              "      <th>Mlle</th>\n",
              "      <th>Mme</th>\n",
              "      <th>Mr</th>\n",
              "      <th>Mrs</th>\n",
              "      <th>Ms</th>\n",
              "      <th>Rev</th>\n",
              "      <th>Sir</th>\n",
              "      <th>the Countess</th>\n",
              "    </tr>\n",
              "  </thead>\n",
              "  <tbody>\n",
              "    <tr>\n",
              "      <th>count</th>\n",
              "      <td>712.000000</td>\n",
              "      <td>712.000000</td>\n",
              "      <td>712.000000</td>\n",
              "      <td>565.000000</td>\n",
              "      <td>712.000000</td>\n",
              "      <td>712.000000</td>\n",
              "      <td>712.000000</td>\n",
              "      <td>712.0</td>\n",
              "      <td>712.000000</td>\n",
              "      <td>712.000000</td>\n",
              "      <td>712.000000</td>\n",
              "      <td>712.0</td>\n",
              "      <td>712.000000</td>\n",
              "      <td>712.000000</td>\n",
              "      <td>712.000000</td>\n",
              "      <td>712.000000</td>\n",
              "      <td>712.000000</td>\n",
              "      <td>712.000000</td>\n",
              "      <td>712.000000</td>\n",
              "      <td>712.000000</td>\n",
              "      <td>712.000000</td>\n",
              "      <td>712.000000</td>\n",
              "      <td>712.000000</td>\n",
              "      <td>712.0</td>\n",
              "    </tr>\n",
              "    <tr>\n",
              "      <th>mean</th>\n",
              "      <td>356.500000</td>\n",
              "      <td>0.390449</td>\n",
              "      <td>2.301966</td>\n",
              "      <td>30.030531</td>\n",
              "      <td>0.528090</td>\n",
              "      <td>0.382022</td>\n",
              "      <td>32.509538</td>\n",
              "      <td>0.0</td>\n",
              "      <td>0.002809</td>\n",
              "      <td>0.001404</td>\n",
              "      <td>0.007022</td>\n",
              "      <td>0.0</td>\n",
              "      <td>0.001404</td>\n",
              "      <td>0.002809</td>\n",
              "      <td>0.039326</td>\n",
              "      <td>0.217697</td>\n",
              "      <td>0.002809</td>\n",
              "      <td>0.001404</td>\n",
              "      <td>0.580056</td>\n",
              "      <td>0.134831</td>\n",
              "      <td>0.001404</td>\n",
              "      <td>0.005618</td>\n",
              "      <td>0.001404</td>\n",
              "      <td>0.0</td>\n",
              "    </tr>\n",
              "    <tr>\n",
              "      <th>std</th>\n",
              "      <td>205.680983</td>\n",
              "      <td>0.488194</td>\n",
              "      <td>0.838656</td>\n",
              "      <td>14.602635</td>\n",
              "      <td>1.064342</td>\n",
              "      <td>0.813122</td>\n",
              "      <td>48.672710</td>\n",
              "      <td>0.0</td>\n",
              "      <td>0.052963</td>\n",
              "      <td>0.037477</td>\n",
              "      <td>0.083564</td>\n",
              "      <td>0.0</td>\n",
              "      <td>0.037477</td>\n",
              "      <td>0.052963</td>\n",
              "      <td>0.194506</td>\n",
              "      <td>0.412970</td>\n",
              "      <td>0.052963</td>\n",
              "      <td>0.037477</td>\n",
              "      <td>0.493896</td>\n",
              "      <td>0.341784</td>\n",
              "      <td>0.037477</td>\n",
              "      <td>0.074795</td>\n",
              "      <td>0.037477</td>\n",
              "      <td>0.0</td>\n",
              "    </tr>\n",
              "    <tr>\n",
              "      <th>min</th>\n",
              "      <td>1.000000</td>\n",
              "      <td>0.000000</td>\n",
              "      <td>1.000000</td>\n",
              "      <td>0.750000</td>\n",
              "      <td>0.000000</td>\n",
              "      <td>0.000000</td>\n",
              "      <td>0.000000</td>\n",
              "      <td>0.0</td>\n",
              "      <td>0.000000</td>\n",
              "      <td>0.000000</td>\n",
              "      <td>0.000000</td>\n",
              "      <td>0.0</td>\n",
              "      <td>0.000000</td>\n",
              "      <td>0.000000</td>\n",
              "      <td>0.000000</td>\n",
              "      <td>0.000000</td>\n",
              "      <td>0.000000</td>\n",
              "      <td>0.000000</td>\n",
              "      <td>0.000000</td>\n",
              "      <td>0.000000</td>\n",
              "      <td>0.000000</td>\n",
              "      <td>0.000000</td>\n",
              "      <td>0.000000</td>\n",
              "      <td>0.0</td>\n",
              "    </tr>\n",
              "    <tr>\n",
              "      <th>25%</th>\n",
              "      <td>178.750000</td>\n",
              "      <td>0.000000</td>\n",
              "      <td>2.000000</td>\n",
              "      <td>21.000000</td>\n",
              "      <td>0.000000</td>\n",
              "      <td>0.000000</td>\n",
              "      <td>7.925000</td>\n",
              "      <td>0.0</td>\n",
              "      <td>0.000000</td>\n",
              "      <td>0.000000</td>\n",
              "      <td>0.000000</td>\n",
              "      <td>0.0</td>\n",
              "      <td>0.000000</td>\n",
              "      <td>0.000000</td>\n",
              "      <td>0.000000</td>\n",
              "      <td>0.000000</td>\n",
              "      <td>0.000000</td>\n",
              "      <td>0.000000</td>\n",
              "      <td>0.000000</td>\n",
              "      <td>0.000000</td>\n",
              "      <td>0.000000</td>\n",
              "      <td>0.000000</td>\n",
              "      <td>0.000000</td>\n",
              "      <td>0.0</td>\n",
              "    </tr>\n",
              "    <tr>\n",
              "      <th>50%</th>\n",
              "      <td>356.500000</td>\n",
              "      <td>0.000000</td>\n",
              "      <td>3.000000</td>\n",
              "      <td>28.000000</td>\n",
              "      <td>0.000000</td>\n",
              "      <td>0.000000</td>\n",
              "      <td>15.022900</td>\n",
              "      <td>0.0</td>\n",
              "      <td>0.000000</td>\n",
              "      <td>0.000000</td>\n",
              "      <td>0.000000</td>\n",
              "      <td>0.0</td>\n",
              "      <td>0.000000</td>\n",
              "      <td>0.000000</td>\n",
              "      <td>0.000000</td>\n",
              "      <td>0.000000</td>\n",
              "      <td>0.000000</td>\n",
              "      <td>0.000000</td>\n",
              "      <td>1.000000</td>\n",
              "      <td>0.000000</td>\n",
              "      <td>0.000000</td>\n",
              "      <td>0.000000</td>\n",
              "      <td>0.000000</td>\n",
              "      <td>0.0</td>\n",
              "    </tr>\n",
              "    <tr>\n",
              "      <th>75%</th>\n",
              "      <td>534.250000</td>\n",
              "      <td>1.000000</td>\n",
              "      <td>3.000000</td>\n",
              "      <td>39.000000</td>\n",
              "      <td>1.000000</td>\n",
              "      <td>0.000000</td>\n",
              "      <td>31.275000</td>\n",
              "      <td>0.0</td>\n",
              "      <td>0.000000</td>\n",
              "      <td>0.000000</td>\n",
              "      <td>0.000000</td>\n",
              "      <td>0.0</td>\n",
              "      <td>0.000000</td>\n",
              "      <td>0.000000</td>\n",
              "      <td>0.000000</td>\n",
              "      <td>0.000000</td>\n",
              "      <td>0.000000</td>\n",
              "      <td>0.000000</td>\n",
              "      <td>1.000000</td>\n",
              "      <td>0.000000</td>\n",
              "      <td>0.000000</td>\n",
              "      <td>0.000000</td>\n",
              "      <td>0.000000</td>\n",
              "      <td>0.0</td>\n",
              "    </tr>\n",
              "    <tr>\n",
              "      <th>max</th>\n",
              "      <td>712.000000</td>\n",
              "      <td>1.000000</td>\n",
              "      <td>3.000000</td>\n",
              "      <td>80.000000</td>\n",
              "      <td>8.000000</td>\n",
              "      <td>6.000000</td>\n",
              "      <td>512.329200</td>\n",
              "      <td>0.0</td>\n",
              "      <td>1.000000</td>\n",
              "      <td>1.000000</td>\n",
              "      <td>1.000000</td>\n",
              "      <td>0.0</td>\n",
              "      <td>1.000000</td>\n",
              "      <td>1.000000</td>\n",
              "      <td>1.000000</td>\n",
              "      <td>1.000000</td>\n",
              "      <td>1.000000</td>\n",
              "      <td>1.000000</td>\n",
              "      <td>1.000000</td>\n",
              "      <td>1.000000</td>\n",
              "      <td>1.000000</td>\n",
              "      <td>1.000000</td>\n",
              "      <td>1.000000</td>\n",
              "      <td>0.0</td>\n",
              "    </tr>\n",
              "  </tbody>\n",
              "</table>\n",
              "</div>"
            ],
            "text/plain": [
              "       PassengerId    Survived  ...         Sir  the Countess\n",
              "count   712.000000  712.000000  ...  712.000000         712.0\n",
              "mean    356.500000    0.390449  ...    0.001404           0.0\n",
              "std     205.680983    0.488194  ...    0.037477           0.0\n",
              "min       1.000000    0.000000  ...    0.000000           0.0\n",
              "25%     178.750000    0.000000  ...    0.000000           0.0\n",
              "50%     356.500000    0.000000  ...    0.000000           0.0\n",
              "75%     534.250000    1.000000  ...    0.000000           0.0\n",
              "max     712.000000    1.000000  ...    1.000000           0.0\n",
              "\n",
              "[8 rows x 24 columns]"
            ]
          },
          "metadata": {
            "tags": []
          },
          "execution_count": 59
        }
      ]
    },
    {
      "cell_type": "markdown",
      "metadata": {
        "id": "unDYvAlulvx8",
        "colab_type": "text"
      },
      "source": [
        "# 2. Clean data"
      ]
    },
    {
      "cell_type": "code",
      "metadata": {
        "id": "HZyKen5eTVEH",
        "colab_type": "code",
        "colab": {
          "base_uri": "https://localhost:8080/",
          "height": 538
        },
        "outputId": "510fe3be-a3e9-4897-aec6-55f380aeee44"
      },
      "source": [
        "train_df.isna().sum()"
      ],
      "execution_count": null,
      "outputs": [
        {
          "output_type": "execute_result",
          "data": {
            "text/plain": [
              "PassengerId       0\n",
              "Survived          0\n",
              "Pclass            0\n",
              "Name              0\n",
              "Sex               0\n",
              "Age             147\n",
              "SibSp             0\n",
              "Parch             0\n",
              "Ticket            0\n",
              "Fare              0\n",
              "Cabin           550\n",
              "Embarked          1\n",
              "initial           0\n",
              "Capt              0\n",
              "Col               0\n",
              "Don               0\n",
              "Dr                0\n",
              "Jonkheer          0\n",
              "Lady              0\n",
              "Major             0\n",
              "Master            0\n",
              "Miss              0\n",
              "Mlle              0\n",
              "Mme               0\n",
              "Mr                0\n",
              "Mrs               0\n",
              "Ms                0\n",
              "Rev               0\n",
              "Sir               0\n",
              "the Countess      0\n",
              "dtype: int64"
            ]
          },
          "metadata": {
            "tags": []
          },
          "execution_count": 60
        }
      ]
    },
    {
      "cell_type": "code",
      "metadata": {
        "id": "AVRrVGMlP2GX",
        "colab_type": "code",
        "colab": {
          "base_uri": "https://localhost:8080/",
          "height": 538
        },
        "outputId": "2c1d41ab-8800-4890-86ae-3e1ff4850ad1"
      },
      "source": [
        "test_df.isna().sum()"
      ],
      "execution_count": null,
      "outputs": [
        {
          "output_type": "execute_result",
          "data": {
            "text/plain": [
              "PassengerId       0\n",
              "Survived          0\n",
              "Pclass            0\n",
              "Name              0\n",
              "Sex               0\n",
              "Age              30\n",
              "SibSp             0\n",
              "Parch             0\n",
              "Ticket            0\n",
              "Fare              0\n",
              "Cabin           137\n",
              "Embarked          1\n",
              "initial           0\n",
              "Capt              0\n",
              "Col               0\n",
              "Don               0\n",
              "Dr                0\n",
              "Jonkheer          0\n",
              "Lady              0\n",
              "Major             0\n",
              "Master            0\n",
              "Miss              0\n",
              "Mlle              0\n",
              "Mme               0\n",
              "Mr                0\n",
              "Mrs               0\n",
              "Ms                0\n",
              "Rev               0\n",
              "Sir               0\n",
              "the Countess      0\n",
              "dtype: int64"
            ]
          },
          "metadata": {
            "tags": []
          },
          "execution_count": 61
        }
      ]
    },
    {
      "cell_type": "code",
      "metadata": {
        "id": "xfhNCASMNXSo",
        "colab_type": "code",
        "colab": {
          "base_uri": "https://localhost:8080/",
          "height": 34
        },
        "outputId": "169dff90-f4a7-46c7-817a-3ea03cad9451"
      },
      "source": [
        "train_df['Age'].mode()[0]"
      ],
      "execution_count": null,
      "outputs": [
        {
          "output_type": "execute_result",
          "data": {
            "text/plain": [
              "22.0"
            ]
          },
          "metadata": {
            "tags": []
          },
          "execution_count": 62
        }
      ]
    },
    {
      "cell_type": "code",
      "metadata": {
        "id": "XhLdqTR2NkLr",
        "colab_type": "code",
        "colab": {
          "base_uri": "https://localhost:8080/",
          "height": 35
        },
        "outputId": "8b1d3212-c88b-4526-c430-2b714e682aa8"
      },
      "source": [
        "train_df['Embarked'].mode()[0]"
      ],
      "execution_count": null,
      "outputs": [
        {
          "output_type": "execute_result",
          "data": {
            "application/vnd.google.colaboratory.intrinsic+json": {
              "type": "string"
            },
            "text/plain": [
              "'S'"
            ]
          },
          "metadata": {
            "tags": []
          },
          "execution_count": 63
        }
      ]
    },
    {
      "cell_type": "code",
      "metadata": {
        "id": "4AVR25QdNoQ7",
        "colab_type": "code",
        "colab": {}
      },
      "source": [
        "def clean_data(df):\n",
        "  for col in df.columns:\n",
        "      mode = df[col].mode()[0]\n",
        "      df[col] = df[col].fillna(mode)\n",
        "  return df"
      ],
      "execution_count": null,
      "outputs": []
    },
    {
      "cell_type": "code",
      "metadata": {
        "id": "oe2ZKEPDN1Wi",
        "colab_type": "code",
        "colab": {}
      },
      "source": [
        "new_df = clean_data(train_df)"
      ],
      "execution_count": null,
      "outputs": []
    },
    {
      "cell_type": "code",
      "metadata": {
        "id": "FL057KuLN6_P",
        "colab_type": "code",
        "colab": {
          "base_uri": "https://localhost:8080/",
          "height": 538
        },
        "outputId": "60092ac5-42ef-44de-90d5-04717eb87d63"
      },
      "source": [
        "new_df.isna().sum()"
      ],
      "execution_count": null,
      "outputs": [
        {
          "output_type": "execute_result",
          "data": {
            "text/plain": [
              "PassengerId     0\n",
              "Survived        0\n",
              "Pclass          0\n",
              "Name            0\n",
              "Sex             0\n",
              "Age             0\n",
              "SibSp           0\n",
              "Parch           0\n",
              "Ticket          0\n",
              "Fare            0\n",
              "Cabin           0\n",
              "Embarked        0\n",
              "initial         0\n",
              "Capt            0\n",
              "Col             0\n",
              "Don             0\n",
              "Dr              0\n",
              "Jonkheer        0\n",
              "Lady            0\n",
              "Major           0\n",
              "Master          0\n",
              "Miss            0\n",
              "Mlle            0\n",
              "Mme             0\n",
              "Mr              0\n",
              "Mrs             0\n",
              "Ms              0\n",
              "Rev             0\n",
              "Sir             0\n",
              "the Countess    0\n",
              "dtype: int64"
            ]
          },
          "metadata": {
            "tags": []
          },
          "execution_count": 66
        }
      ]
    },
    {
      "cell_type": "markdown",
      "metadata": {
        "id": "v9AoqBwFlv2V",
        "colab_type": "text"
      },
      "source": [
        "# 3. Extract features"
      ]
    },
    {
      "cell_type": "code",
      "metadata": {
        "id": "nelflW-7mRGf",
        "colab_type": "code",
        "colab": {
          "base_uri": "https://localhost:8080/",
          "height": 501
        },
        "outputId": "384c32bf-79be-4603-b9be-0e07a5fc4d59"
      },
      "source": [
        "new_df.head()"
      ],
      "execution_count": null,
      "outputs": [
        {
          "output_type": "execute_result",
          "data": {
            "text/html": [
              "<div>\n",
              "<style scoped>\n",
              "    .dataframe tbody tr th:only-of-type {\n",
              "        vertical-align: middle;\n",
              "    }\n",
              "\n",
              "    .dataframe tbody tr th {\n",
              "        vertical-align: top;\n",
              "    }\n",
              "\n",
              "    .dataframe thead th {\n",
              "        text-align: right;\n",
              "    }\n",
              "</style>\n",
              "<table border=\"1\" class=\"dataframe\">\n",
              "  <thead>\n",
              "    <tr style=\"text-align: right;\">\n",
              "      <th></th>\n",
              "      <th>PassengerId</th>\n",
              "      <th>Survived</th>\n",
              "      <th>Pclass</th>\n",
              "      <th>Name</th>\n",
              "      <th>Sex</th>\n",
              "      <th>Age</th>\n",
              "      <th>SibSp</th>\n",
              "      <th>Parch</th>\n",
              "      <th>Ticket</th>\n",
              "      <th>Fare</th>\n",
              "      <th>Cabin</th>\n",
              "      <th>Embarked</th>\n",
              "      <th>initial</th>\n",
              "      <th>Capt</th>\n",
              "      <th>Col</th>\n",
              "      <th>Don</th>\n",
              "      <th>Dr</th>\n",
              "      <th>Jonkheer</th>\n",
              "      <th>Lady</th>\n",
              "      <th>Major</th>\n",
              "      <th>Master</th>\n",
              "      <th>Miss</th>\n",
              "      <th>Mlle</th>\n",
              "      <th>Mme</th>\n",
              "      <th>Mr</th>\n",
              "      <th>Mrs</th>\n",
              "      <th>Ms</th>\n",
              "      <th>Rev</th>\n",
              "      <th>Sir</th>\n",
              "      <th>the Countess</th>\n",
              "    </tr>\n",
              "  </thead>\n",
              "  <tbody>\n",
              "    <tr>\n",
              "      <th>0</th>\n",
              "      <td>1</td>\n",
              "      <td>0</td>\n",
              "      <td>3</td>\n",
              "      <td>Braund, Mr. Owen Harris</td>\n",
              "      <td>male</td>\n",
              "      <td>22.0</td>\n",
              "      <td>1</td>\n",
              "      <td>0</td>\n",
              "      <td>A/5 21171</td>\n",
              "      <td>7.2500</td>\n",
              "      <td>C23 C25 C27</td>\n",
              "      <td>S</td>\n",
              "      <td>Mr</td>\n",
              "      <td>0</td>\n",
              "      <td>0</td>\n",
              "      <td>0</td>\n",
              "      <td>0</td>\n",
              "      <td>0</td>\n",
              "      <td>0</td>\n",
              "      <td>0</td>\n",
              "      <td>0</td>\n",
              "      <td>0</td>\n",
              "      <td>0</td>\n",
              "      <td>0</td>\n",
              "      <td>1</td>\n",
              "      <td>0</td>\n",
              "      <td>0</td>\n",
              "      <td>0</td>\n",
              "      <td>0</td>\n",
              "      <td>0</td>\n",
              "    </tr>\n",
              "    <tr>\n",
              "      <th>1</th>\n",
              "      <td>2</td>\n",
              "      <td>1</td>\n",
              "      <td>1</td>\n",
              "      <td>Cumings, Mrs. John Bradley (Florence Briggs Th...</td>\n",
              "      <td>female</td>\n",
              "      <td>38.0</td>\n",
              "      <td>1</td>\n",
              "      <td>0</td>\n",
              "      <td>PC 17599</td>\n",
              "      <td>71.2833</td>\n",
              "      <td>C85</td>\n",
              "      <td>C</td>\n",
              "      <td>Mrs</td>\n",
              "      <td>0</td>\n",
              "      <td>0</td>\n",
              "      <td>0</td>\n",
              "      <td>0</td>\n",
              "      <td>0</td>\n",
              "      <td>0</td>\n",
              "      <td>0</td>\n",
              "      <td>0</td>\n",
              "      <td>0</td>\n",
              "      <td>0</td>\n",
              "      <td>0</td>\n",
              "      <td>0</td>\n",
              "      <td>1</td>\n",
              "      <td>0</td>\n",
              "      <td>0</td>\n",
              "      <td>0</td>\n",
              "      <td>0</td>\n",
              "    </tr>\n",
              "    <tr>\n",
              "      <th>2</th>\n",
              "      <td>3</td>\n",
              "      <td>1</td>\n",
              "      <td>3</td>\n",
              "      <td>Heikkinen, Miss. Laina</td>\n",
              "      <td>female</td>\n",
              "      <td>26.0</td>\n",
              "      <td>0</td>\n",
              "      <td>0</td>\n",
              "      <td>STON/O2. 3101282</td>\n",
              "      <td>7.9250</td>\n",
              "      <td>C23 C25 C27</td>\n",
              "      <td>S</td>\n",
              "      <td>Miss</td>\n",
              "      <td>0</td>\n",
              "      <td>0</td>\n",
              "      <td>0</td>\n",
              "      <td>0</td>\n",
              "      <td>0</td>\n",
              "      <td>0</td>\n",
              "      <td>0</td>\n",
              "      <td>0</td>\n",
              "      <td>1</td>\n",
              "      <td>0</td>\n",
              "      <td>0</td>\n",
              "      <td>0</td>\n",
              "      <td>0</td>\n",
              "      <td>0</td>\n",
              "      <td>0</td>\n",
              "      <td>0</td>\n",
              "      <td>0</td>\n",
              "    </tr>\n",
              "    <tr>\n",
              "      <th>3</th>\n",
              "      <td>4</td>\n",
              "      <td>1</td>\n",
              "      <td>1</td>\n",
              "      <td>Futrelle, Mrs. Jacques Heath (Lily May Peel)</td>\n",
              "      <td>female</td>\n",
              "      <td>35.0</td>\n",
              "      <td>1</td>\n",
              "      <td>0</td>\n",
              "      <td>113803</td>\n",
              "      <td>53.1000</td>\n",
              "      <td>C123</td>\n",
              "      <td>S</td>\n",
              "      <td>Mrs</td>\n",
              "      <td>0</td>\n",
              "      <td>0</td>\n",
              "      <td>0</td>\n",
              "      <td>0</td>\n",
              "      <td>0</td>\n",
              "      <td>0</td>\n",
              "      <td>0</td>\n",
              "      <td>0</td>\n",
              "      <td>0</td>\n",
              "      <td>0</td>\n",
              "      <td>0</td>\n",
              "      <td>0</td>\n",
              "      <td>1</td>\n",
              "      <td>0</td>\n",
              "      <td>0</td>\n",
              "      <td>0</td>\n",
              "      <td>0</td>\n",
              "    </tr>\n",
              "    <tr>\n",
              "      <th>4</th>\n",
              "      <td>5</td>\n",
              "      <td>0</td>\n",
              "      <td>3</td>\n",
              "      <td>Allen, Mr. William Henry</td>\n",
              "      <td>male</td>\n",
              "      <td>35.0</td>\n",
              "      <td>0</td>\n",
              "      <td>0</td>\n",
              "      <td>373450</td>\n",
              "      <td>8.0500</td>\n",
              "      <td>C23 C25 C27</td>\n",
              "      <td>S</td>\n",
              "      <td>Mr</td>\n",
              "      <td>0</td>\n",
              "      <td>0</td>\n",
              "      <td>0</td>\n",
              "      <td>0</td>\n",
              "      <td>0</td>\n",
              "      <td>0</td>\n",
              "      <td>0</td>\n",
              "      <td>0</td>\n",
              "      <td>0</td>\n",
              "      <td>0</td>\n",
              "      <td>0</td>\n",
              "      <td>1</td>\n",
              "      <td>0</td>\n",
              "      <td>0</td>\n",
              "      <td>0</td>\n",
              "      <td>0</td>\n",
              "      <td>0</td>\n",
              "    </tr>\n",
              "  </tbody>\n",
              "</table>\n",
              "</div>"
            ],
            "text/plain": [
              "   PassengerId  Survived  Pclass  ... Rev Sir  the Countess\n",
              "0            1         0       3  ...   0   0             0\n",
              "1            2         1       1  ...   0   0             0\n",
              "2            3         1       3  ...   0   0             0\n",
              "3            4         1       1  ...   0   0             0\n",
              "4            5         0       3  ...   0   0             0\n",
              "\n",
              "[5 rows x 30 columns]"
            ]
          },
          "metadata": {
            "tags": []
          },
          "execution_count": 67
        }
      ]
    },
    {
      "cell_type": "code",
      "metadata": {
        "id": "rk-2at4xORuB",
        "colab_type": "code",
        "colab": {}
      },
      "source": [
        "def split_data_label(df):\n",
        "  label = df['Survived']\n",
        "  data = df.drop('Survived', axis=1)\n",
        "  return data, label"
      ],
      "execution_count": null,
      "outputs": []
    },
    {
      "cell_type": "code",
      "metadata": {
        "id": "2SpHKXPEOioP",
        "colab_type": "code",
        "colab": {}
      },
      "source": [
        "train_data, train_label = split_data_label(clean_data(train_df))"
      ],
      "execution_count": null,
      "outputs": []
    },
    {
      "cell_type": "code",
      "metadata": {
        "id": "yWQuYozjOroV",
        "colab_type": "code",
        "colab": {}
      },
      "source": [
        "test_data, test_label = split_data_label(clean_data(test_df))"
      ],
      "execution_count": null,
      "outputs": []
    },
    {
      "cell_type": "code",
      "metadata": {
        "id": "aZieUOGTO2xp",
        "colab_type": "code",
        "colab": {}
      },
      "source": [
        "def extract_feat(df):\n",
        "  feat = df.copy()\n",
        "  feat = feat.drop('PassengerId', axis=1)\n",
        "  feat = feat._get_numeric_data()\n",
        "  return feat"
      ],
      "execution_count": null,
      "outputs": []
    },
    {
      "cell_type": "code",
      "metadata": {
        "id": "2woWqpHtOzJc",
        "colab_type": "code",
        "colab": {}
      },
      "source": [
        "train_feat = extract_feat(train_data)\n",
        "test_feat = extract_feat(test_data)"
      ],
      "execution_count": null,
      "outputs": []
    },
    {
      "cell_type": "code",
      "metadata": {
        "id": "20CmmOQ36TgO",
        "colab_type": "code",
        "colab": {
          "base_uri": "https://localhost:8080/",
          "height": 212
        },
        "outputId": "16c7fc40-9699-4c4c-9af1-13f8c483c8dc"
      },
      "source": [
        "train_feat.head()"
      ],
      "execution_count": null,
      "outputs": [
        {
          "output_type": "execute_result",
          "data": {
            "text/html": [
              "<div>\n",
              "<style scoped>\n",
              "    .dataframe tbody tr th:only-of-type {\n",
              "        vertical-align: middle;\n",
              "    }\n",
              "\n",
              "    .dataframe tbody tr th {\n",
              "        vertical-align: top;\n",
              "    }\n",
              "\n",
              "    .dataframe thead th {\n",
              "        text-align: right;\n",
              "    }\n",
              "</style>\n",
              "<table border=\"1\" class=\"dataframe\">\n",
              "  <thead>\n",
              "    <tr style=\"text-align: right;\">\n",
              "      <th></th>\n",
              "      <th>Pclass</th>\n",
              "      <th>Age</th>\n",
              "      <th>SibSp</th>\n",
              "      <th>Parch</th>\n",
              "      <th>Fare</th>\n",
              "      <th>Capt</th>\n",
              "      <th>Col</th>\n",
              "      <th>Don</th>\n",
              "      <th>Dr</th>\n",
              "      <th>Jonkheer</th>\n",
              "      <th>Lady</th>\n",
              "      <th>Major</th>\n",
              "      <th>Master</th>\n",
              "      <th>Miss</th>\n",
              "      <th>Mlle</th>\n",
              "      <th>Mme</th>\n",
              "      <th>Mr</th>\n",
              "      <th>Mrs</th>\n",
              "      <th>Ms</th>\n",
              "      <th>Rev</th>\n",
              "      <th>Sir</th>\n",
              "      <th>the Countess</th>\n",
              "    </tr>\n",
              "  </thead>\n",
              "  <tbody>\n",
              "    <tr>\n",
              "      <th>0</th>\n",
              "      <td>3</td>\n",
              "      <td>22.0</td>\n",
              "      <td>1</td>\n",
              "      <td>0</td>\n",
              "      <td>7.2500</td>\n",
              "      <td>0</td>\n",
              "      <td>0</td>\n",
              "      <td>0</td>\n",
              "      <td>0</td>\n",
              "      <td>0</td>\n",
              "      <td>0</td>\n",
              "      <td>0</td>\n",
              "      <td>0</td>\n",
              "      <td>0</td>\n",
              "      <td>0</td>\n",
              "      <td>0</td>\n",
              "      <td>1</td>\n",
              "      <td>0</td>\n",
              "      <td>0</td>\n",
              "      <td>0</td>\n",
              "      <td>0</td>\n",
              "      <td>0</td>\n",
              "    </tr>\n",
              "    <tr>\n",
              "      <th>1</th>\n",
              "      <td>1</td>\n",
              "      <td>38.0</td>\n",
              "      <td>1</td>\n",
              "      <td>0</td>\n",
              "      <td>71.2833</td>\n",
              "      <td>0</td>\n",
              "      <td>0</td>\n",
              "      <td>0</td>\n",
              "      <td>0</td>\n",
              "      <td>0</td>\n",
              "      <td>0</td>\n",
              "      <td>0</td>\n",
              "      <td>0</td>\n",
              "      <td>0</td>\n",
              "      <td>0</td>\n",
              "      <td>0</td>\n",
              "      <td>0</td>\n",
              "      <td>1</td>\n",
              "      <td>0</td>\n",
              "      <td>0</td>\n",
              "      <td>0</td>\n",
              "      <td>0</td>\n",
              "    </tr>\n",
              "    <tr>\n",
              "      <th>2</th>\n",
              "      <td>3</td>\n",
              "      <td>26.0</td>\n",
              "      <td>0</td>\n",
              "      <td>0</td>\n",
              "      <td>7.9250</td>\n",
              "      <td>0</td>\n",
              "      <td>0</td>\n",
              "      <td>0</td>\n",
              "      <td>0</td>\n",
              "      <td>0</td>\n",
              "      <td>0</td>\n",
              "      <td>0</td>\n",
              "      <td>0</td>\n",
              "      <td>1</td>\n",
              "      <td>0</td>\n",
              "      <td>0</td>\n",
              "      <td>0</td>\n",
              "      <td>0</td>\n",
              "      <td>0</td>\n",
              "      <td>0</td>\n",
              "      <td>0</td>\n",
              "      <td>0</td>\n",
              "    </tr>\n",
              "    <tr>\n",
              "      <th>3</th>\n",
              "      <td>1</td>\n",
              "      <td>35.0</td>\n",
              "      <td>1</td>\n",
              "      <td>0</td>\n",
              "      <td>53.1000</td>\n",
              "      <td>0</td>\n",
              "      <td>0</td>\n",
              "      <td>0</td>\n",
              "      <td>0</td>\n",
              "      <td>0</td>\n",
              "      <td>0</td>\n",
              "      <td>0</td>\n",
              "      <td>0</td>\n",
              "      <td>0</td>\n",
              "      <td>0</td>\n",
              "      <td>0</td>\n",
              "      <td>0</td>\n",
              "      <td>1</td>\n",
              "      <td>0</td>\n",
              "      <td>0</td>\n",
              "      <td>0</td>\n",
              "      <td>0</td>\n",
              "    </tr>\n",
              "    <tr>\n",
              "      <th>4</th>\n",
              "      <td>3</td>\n",
              "      <td>35.0</td>\n",
              "      <td>0</td>\n",
              "      <td>0</td>\n",
              "      <td>8.0500</td>\n",
              "      <td>0</td>\n",
              "      <td>0</td>\n",
              "      <td>0</td>\n",
              "      <td>0</td>\n",
              "      <td>0</td>\n",
              "      <td>0</td>\n",
              "      <td>0</td>\n",
              "      <td>0</td>\n",
              "      <td>0</td>\n",
              "      <td>0</td>\n",
              "      <td>0</td>\n",
              "      <td>1</td>\n",
              "      <td>0</td>\n",
              "      <td>0</td>\n",
              "      <td>0</td>\n",
              "      <td>0</td>\n",
              "      <td>0</td>\n",
              "    </tr>\n",
              "  </tbody>\n",
              "</table>\n",
              "</div>"
            ],
            "text/plain": [
              "   Pclass   Age  SibSp  Parch     Fare  ...  Mrs  Ms  Rev  Sir  the Countess\n",
              "0       3  22.0      1      0   7.2500  ...    0   0    0    0             0\n",
              "1       1  38.0      1      0  71.2833  ...    1   0    0    0             0\n",
              "2       3  26.0      0      0   7.9250  ...    0   0    0    0             0\n",
              "3       1  35.0      1      0  53.1000  ...    1   0    0    0             0\n",
              "4       3  35.0      0      0   8.0500  ...    0   0    0    0             0\n",
              "\n",
              "[5 rows x 22 columns]"
            ]
          },
          "metadata": {
            "tags": []
          },
          "execution_count": 73
        }
      ]
    },
    {
      "cell_type": "code",
      "metadata": {
        "id": "ePAYS_LGc4BH",
        "colab_type": "code",
        "colab": {
          "base_uri": "https://localhost:8080/",
          "height": 218
        },
        "outputId": "e16500b1-fd65-4521-ef7a-eeed0d72e376"
      },
      "source": [
        "train_label"
      ],
      "execution_count": null,
      "outputs": [
        {
          "output_type": "execute_result",
          "data": {
            "text/plain": [
              "0      0\n",
              "1      1\n",
              "2      1\n",
              "3      1\n",
              "4      0\n",
              "      ..\n",
              "707    1\n",
              "708    1\n",
              "709    1\n",
              "710    1\n",
              "711    0\n",
              "Name: Survived, Length: 712, dtype: int64"
            ]
          },
          "metadata": {
            "tags": []
          },
          "execution_count": 143
        }
      ]
    },
    {
      "cell_type": "code",
      "metadata": {
        "id": "AOSvNk0s6Vwo",
        "colab_type": "code",
        "colab": {
          "base_uri": "https://localhost:8080/",
          "height": 232
        },
        "outputId": "1ef8d7c6-d823-403d-a81c-6d7fdb36a3de"
      },
      "source": [
        "test_feat.head()"
      ],
      "execution_count": null,
      "outputs": [
        {
          "output_type": "execute_result",
          "data": {
            "text/html": [
              "<div>\n",
              "<style scoped>\n",
              "    .dataframe tbody tr th:only-of-type {\n",
              "        vertical-align: middle;\n",
              "    }\n",
              "\n",
              "    .dataframe tbody tr th {\n",
              "        vertical-align: top;\n",
              "    }\n",
              "\n",
              "    .dataframe thead th {\n",
              "        text-align: right;\n",
              "    }\n",
              "</style>\n",
              "<table border=\"1\" class=\"dataframe\">\n",
              "  <thead>\n",
              "    <tr style=\"text-align: right;\">\n",
              "      <th></th>\n",
              "      <th>Pclass</th>\n",
              "      <th>Age</th>\n",
              "      <th>SibSp</th>\n",
              "      <th>Parch</th>\n",
              "      <th>Fare</th>\n",
              "      <th>Capt</th>\n",
              "      <th>Col</th>\n",
              "      <th>Don</th>\n",
              "      <th>Dr</th>\n",
              "      <th>Jonkheer</th>\n",
              "      <th>Lady</th>\n",
              "      <th>Major</th>\n",
              "      <th>Master</th>\n",
              "      <th>Miss</th>\n",
              "      <th>Mlle</th>\n",
              "      <th>Mme</th>\n",
              "      <th>Mr</th>\n",
              "      <th>Mrs</th>\n",
              "      <th>Ms</th>\n",
              "      <th>Rev</th>\n",
              "      <th>Sir</th>\n",
              "      <th>the Countess</th>\n",
              "    </tr>\n",
              "  </thead>\n",
              "  <tbody>\n",
              "    <tr>\n",
              "      <th>712</th>\n",
              "      <td>1</td>\n",
              "      <td>48.0</td>\n",
              "      <td>1</td>\n",
              "      <td>0</td>\n",
              "      <td>52.0000</td>\n",
              "      <td>0</td>\n",
              "      <td>0</td>\n",
              "      <td>0</td>\n",
              "      <td>0</td>\n",
              "      <td>0</td>\n",
              "      <td>0</td>\n",
              "      <td>0</td>\n",
              "      <td>0</td>\n",
              "      <td>0</td>\n",
              "      <td>0</td>\n",
              "      <td>0</td>\n",
              "      <td>1</td>\n",
              "      <td>0</td>\n",
              "      <td>0</td>\n",
              "      <td>0</td>\n",
              "      <td>0</td>\n",
              "      <td>0</td>\n",
              "    </tr>\n",
              "    <tr>\n",
              "      <th>713</th>\n",
              "      <td>3</td>\n",
              "      <td>29.0</td>\n",
              "      <td>0</td>\n",
              "      <td>0</td>\n",
              "      <td>9.4833</td>\n",
              "      <td>0</td>\n",
              "      <td>0</td>\n",
              "      <td>0</td>\n",
              "      <td>0</td>\n",
              "      <td>0</td>\n",
              "      <td>0</td>\n",
              "      <td>0</td>\n",
              "      <td>0</td>\n",
              "      <td>0</td>\n",
              "      <td>0</td>\n",
              "      <td>0</td>\n",
              "      <td>1</td>\n",
              "      <td>0</td>\n",
              "      <td>0</td>\n",
              "      <td>0</td>\n",
              "      <td>0</td>\n",
              "      <td>0</td>\n",
              "    </tr>\n",
              "    <tr>\n",
              "      <th>714</th>\n",
              "      <td>2</td>\n",
              "      <td>52.0</td>\n",
              "      <td>0</td>\n",
              "      <td>0</td>\n",
              "      <td>13.0000</td>\n",
              "      <td>0</td>\n",
              "      <td>0</td>\n",
              "      <td>0</td>\n",
              "      <td>0</td>\n",
              "      <td>0</td>\n",
              "      <td>0</td>\n",
              "      <td>0</td>\n",
              "      <td>0</td>\n",
              "      <td>0</td>\n",
              "      <td>0</td>\n",
              "      <td>0</td>\n",
              "      <td>1</td>\n",
              "      <td>0</td>\n",
              "      <td>0</td>\n",
              "      <td>0</td>\n",
              "      <td>0</td>\n",
              "      <td>0</td>\n",
              "    </tr>\n",
              "    <tr>\n",
              "      <th>715</th>\n",
              "      <td>3</td>\n",
              "      <td>19.0</td>\n",
              "      <td>0</td>\n",
              "      <td>0</td>\n",
              "      <td>7.6500</td>\n",
              "      <td>0</td>\n",
              "      <td>0</td>\n",
              "      <td>0</td>\n",
              "      <td>0</td>\n",
              "      <td>0</td>\n",
              "      <td>0</td>\n",
              "      <td>0</td>\n",
              "      <td>0</td>\n",
              "      <td>0</td>\n",
              "      <td>0</td>\n",
              "      <td>0</td>\n",
              "      <td>1</td>\n",
              "      <td>0</td>\n",
              "      <td>0</td>\n",
              "      <td>0</td>\n",
              "      <td>0</td>\n",
              "      <td>0</td>\n",
              "    </tr>\n",
              "    <tr>\n",
              "      <th>716</th>\n",
              "      <td>1</td>\n",
              "      <td>38.0</td>\n",
              "      <td>0</td>\n",
              "      <td>0</td>\n",
              "      <td>227.5250</td>\n",
              "      <td>0</td>\n",
              "      <td>0</td>\n",
              "      <td>0</td>\n",
              "      <td>0</td>\n",
              "      <td>0</td>\n",
              "      <td>0</td>\n",
              "      <td>0</td>\n",
              "      <td>0</td>\n",
              "      <td>1</td>\n",
              "      <td>0</td>\n",
              "      <td>0</td>\n",
              "      <td>0</td>\n",
              "      <td>0</td>\n",
              "      <td>0</td>\n",
              "      <td>0</td>\n",
              "      <td>0</td>\n",
              "      <td>0</td>\n",
              "    </tr>\n",
              "  </tbody>\n",
              "</table>\n",
              "</div>"
            ],
            "text/plain": [
              "     Pclass   Age  SibSp  Parch      Fare  ...  Mrs  Ms  Rev  Sir  the Countess\n",
              "712       1  48.0      1      0   52.0000  ...    0   0    0    0             0\n",
              "713       3  29.0      0      0    9.4833  ...    0   0    0    0             0\n",
              "714       2  52.0      0      0   13.0000  ...    0   0    0    0             0\n",
              "715       3  19.0      0      0    7.6500  ...    0   0    0    0             0\n",
              "716       1  38.0      0      0  227.5250  ...    0   0    0    0             0\n",
              "\n",
              "[5 rows x 22 columns]"
            ]
          },
          "metadata": {
            "tags": []
          },
          "execution_count": 74
        }
      ]
    },
    {
      "cell_type": "markdown",
      "metadata": {
        "id": "Igpg66G0lv85",
        "colab_type": "text"
      },
      "source": [
        "# 4. Train model"
      ]
    },
    {
      "cell_type": "code",
      "metadata": {
        "id": "wL-wREv08Cp8",
        "colab_type": "code",
        "colab": {}
      },
      "source": [
        "from sklearn.metrics import accuracy_score\n",
        "from sklearn.preprocessing import MinMaxScaler\n",
        "from sklearn.model_selection import cross_val_score"
      ],
      "execution_count": null,
      "outputs": []
    },
    {
      "cell_type": "code",
      "metadata": {
        "id": "K8v4Qufj7boB",
        "colab_type": "code",
        "colab": {}
      },
      "source": [
        "X_train = train_feat.copy()\n",
        "y_train = train_label.copy()\n",
        "X_test = test_feat.copy()\n",
        "y_test = test_label.copy()"
      ],
      "execution_count": null,
      "outputs": []
    },
    {
      "cell_type": "code",
      "metadata": {
        "id": "GfTocyNF8jxX",
        "colab_type": "code",
        "colab": {}
      },
      "source": [
        "scaler = MinMaxScaler()\n",
        "scaler.fit(X_train)\n",
        "X_train_scaled = scaler.transform(X_train)\n",
        "X_test_scaled = scaler.transform(X_test)"
      ],
      "execution_count": null,
      "outputs": []
    },
    {
      "cell_type": "code",
      "metadata": {
        "id": "mn5gkpl4M0sl",
        "colab_type": "code",
        "colab": {}
      },
      "source": [
        "def feature_scaling(train_feat, test_feat):\n",
        "  scaler = MinMaxScaler()\n",
        "  scaler.fit(train_feat)\n",
        "  train_feat_scaled = scaler.transform(train_feat)\n",
        "  test_feat_scaled = scaler.transform(test_feat)\n",
        "  return train_feat_scaled, test_feat_scaled"
      ],
      "execution_count": null,
      "outputs": []
    },
    {
      "cell_type": "markdown",
      "metadata": {
        "id": "myPgnPhL-Nha",
        "colab_type": "text"
      },
      "source": [
        "## Logistic Regression"
      ]
    },
    {
      "cell_type": "code",
      "metadata": {
        "id": "4OQsuqDZmSDI",
        "colab_type": "code",
        "colab": {}
      },
      "source": [
        "from sklearn.linear_model import LogisticRegression"
      ],
      "execution_count": null,
      "outputs": []
    },
    {
      "cell_type": "code",
      "metadata": {
        "id": "MMhE2MiBcqR1",
        "colab_type": "code",
        "colab": {}
      },
      "source": [
        "lgr =LogisticRegression()"
      ],
      "execution_count": null,
      "outputs": []
    },
    {
      "cell_type": "code",
      "metadata": {
        "id": "C-Pk5sY9QOeZ",
        "colab_type": "code",
        "colab": {
          "base_uri": "https://localhost:8080/",
          "height": 34
        },
        "outputId": "4d764d80-7805-4c4e-afc1-c636c7b16ad0"
      },
      "source": [
        "lgr = LogisticRegression()\n",
        "lgr.fit(X_train_scaled, y_train)\n",
        "prediction = lgr.predict(X_test_scaled)\n",
        "print('Logistic Regression Score : ', accuracy_score(y_test, prediction))"
      ],
      "execution_count": null,
      "outputs": [
        {
          "output_type": "stream",
          "text": [
            "Logistic Regression Score :  0.8603351955307262\n"
          ],
          "name": "stdout"
        }
      ]
    },
    {
      "cell_type": "markdown",
      "metadata": {
        "id": "xJb9DU29-Tyo",
        "colab_type": "text"
      },
      "source": [
        "## Support Vector Machine \n"
      ]
    },
    {
      "cell_type": "code",
      "metadata": {
        "id": "1_lMTy4N-2Tw",
        "colab_type": "code",
        "colab": {}
      },
      "source": [
        "from sklearn.svm import SVC"
      ],
      "execution_count": null,
      "outputs": []
    },
    {
      "cell_type": "code",
      "metadata": {
        "id": "ofJMWPRYQkMx",
        "colab_type": "code",
        "colab": {
          "base_uri": "https://localhost:8080/",
          "height": 34
        },
        "outputId": "3556e844-0416-4408-fc54-eb670b60c020"
      },
      "source": [
        "svc = SVC()\n",
        "svc.fit(X_train, y_train)\n",
        "prediction = svc.predict(X_test)\n",
        "print('Support Vector Machine Score (without scaling) : ', accuracy_score(y_test, prediction))"
      ],
      "execution_count": null,
      "outputs": [
        {
          "output_type": "stream",
          "text": [
            "Support Vector Machine Score (without scaling) :  0.7039106145251397\n"
          ],
          "name": "stdout"
        }
      ]
    },
    {
      "cell_type": "code",
      "metadata": {
        "id": "oBTSqBRM_OsQ",
        "colab_type": "code",
        "colab": {
          "base_uri": "https://localhost:8080/",
          "height": 34
        },
        "outputId": "b05cd360-2886-4d70-8a8e-bc66915c422b"
      },
      "source": [
        "svc = SVC()\n",
        "svc.fit(X_train_scaled, y_train)\n",
        "prediction = svc.predict(X_test_scaled)\n",
        "print('Support Vector Machine Score (with scaling) : ', accuracy_score(y_test, prediction))"
      ],
      "execution_count": null,
      "outputs": [
        {
          "output_type": "stream",
          "text": [
            "Support Vector Machine Score (with scaling) :  0.8547486033519553\n"
          ],
          "name": "stdout"
        }
      ]
    },
    {
      "cell_type": "markdown",
      "metadata": {
        "id": "WXZdu6TIG4Yh",
        "colab_type": "text"
      },
      "source": [
        "## K-Nearest Neighbors"
      ]
    },
    {
      "cell_type": "code",
      "metadata": {
        "id": "FI4AMIcXG4gW",
        "colab_type": "code",
        "colab": {}
      },
      "source": [
        "from sklearn.neighbors import KNeighborsClassifier"
      ],
      "execution_count": null,
      "outputs": []
    },
    {
      "cell_type": "code",
      "metadata": {
        "id": "7f6oAfz4G4jG",
        "colab_type": "code",
        "colab": {
          "base_uri": "https://localhost:8080/",
          "height": 34
        },
        "outputId": "b6eb1e1a-a1b8-4fcf-b4d7-4443084bf179"
      },
      "source": [
        "knn = KNeighborsClassifier(n_neighbors=5)\n",
        "knn.fit(X_train, y_train)\n",
        "prediction = knn.predict(X_test)\n",
        "print('K-Nearest Neighbors (without scaling) : ', accuracy_score(y_test, prediction))"
      ],
      "execution_count": null,
      "outputs": [
        {
          "output_type": "stream",
          "text": [
            "K-Nearest Neighbors (without scaling) :  0.7206703910614525\n"
          ],
          "name": "stdout"
        }
      ]
    },
    {
      "cell_type": "code",
      "metadata": {
        "id": "OuRbodhyG4ld",
        "colab_type": "code",
        "colab": {
          "base_uri": "https://localhost:8080/",
          "height": 34
        },
        "outputId": "b1d97d7f-d52b-4d69-cc9f-754c749a9859"
      },
      "source": [
        "knn = KNeighborsClassifier(n_neighbors=5)\n",
        "knn.fit(X_train_scaled, y_train)\n",
        "prediction = knn.predict(X_test_scaled)\n",
        "print('K-Nearest Neighbors (with scaling) : ', accuracy_score(y_test, prediction))"
      ],
      "execution_count": null,
      "outputs": [
        {
          "output_type": "stream",
          "text": [
            "K-Nearest Neighbors (with scaling) :  0.8379888268156425\n"
          ],
          "name": "stdout"
        }
      ]
    },
    {
      "cell_type": "markdown",
      "metadata": {
        "id": "X3ZI1CqbIFTo",
        "colab_type": "text"
      },
      "source": [
        "## Decision Tree"
      ]
    },
    {
      "cell_type": "code",
      "metadata": {
        "id": "HfMLCQsiIFbf",
        "colab_type": "code",
        "colab": {}
      },
      "source": [
        "from sklearn.tree import DecisionTreeClassifier"
      ],
      "execution_count": null,
      "outputs": []
    },
    {
      "cell_type": "code",
      "metadata": {
        "id": "EEdAvkv0IFeR",
        "colab_type": "code",
        "colab": {
          "base_uri": "https://localhost:8080/",
          "height": 34
        },
        "outputId": "9bdbff53-799c-48ef-ed50-67e12f797468"
      },
      "source": [
        "dtc = DecisionTreeClassifier(random_state=0, max_depth=4)\n",
        "dtc.fit(X_train_scaled, y_train)\n",
        "prediction = dtc.predict(X_test_scaled)\n",
        "print('Decision Tree : ', accuracy_score(y_test, prediction))"
      ],
      "execution_count": null,
      "outputs": [
        {
          "output_type": "stream",
          "text": [
            "Decision Tree :  0.8491620111731844\n"
          ],
          "name": "stdout"
        }
      ]
    },
    {
      "cell_type": "markdown",
      "metadata": {
        "id": "TzLrqJmdFy8X",
        "colab_type": "text"
      },
      "source": [
        "## Random Forest Classifier"
      ]
    },
    {
      "cell_type": "code",
      "metadata": {
        "id": "yAjfoas4FzFG",
        "colab_type": "code",
        "colab": {}
      },
      "source": [
        "from sklearn.ensemble import RandomForestClassifier"
      ],
      "execution_count": null,
      "outputs": []
    },
    {
      "cell_type": "code",
      "metadata": {
        "id": "20GeIaV-FzHu",
        "colab_type": "code",
        "colab": {
          "base_uri": "https://localhost:8080/",
          "height": 34
        },
        "outputId": "367e4ca8-2908-47f9-fe63-b519fc24fa5d"
      },
      "source": [
        "rfc = RandomForestClassifier(random_state=0, max_depth=4, n_estimators=10)\n",
        "rfc.fit(X_train_scaled, y_train)\n",
        "prediction= rfc.predict(X_test_scaled)\n",
        "print('Random Forest Classifier :', accuracy_score(y_test, prediction))"
      ],
      "execution_count": null,
      "outputs": [
        {
          "output_type": "stream",
          "text": [
            "Random Forest Classifier : 0.8324022346368715\n"
          ],
          "name": "stdout"
        }
      ]
    },
    {
      "cell_type": "markdown",
      "metadata": {
        "id": "KpJiQXvlC_Ef",
        "colab_type": "text"
      },
      "source": [
        "## Gradient Boosting Classifier"
      ]
    },
    {
      "cell_type": "code",
      "metadata": {
        "id": "-SpGOZN0C-x5",
        "colab_type": "code",
        "colab": {}
      },
      "source": [
        "from sklearn.ensemble import GradientBoostingClassifier"
      ],
      "execution_count": null,
      "outputs": []
    },
    {
      "cell_type": "code",
      "metadata": {
        "id": "jXY10xNqCtij",
        "colab_type": "code",
        "colab": {
          "base_uri": "https://localhost:8080/",
          "height": 34
        },
        "outputId": "f6b4a35c-5b91-430a-f293-eb3a29c359dc"
      },
      "source": [
        "gdc = GradientBoostingClassifier(random_state=0, max_depth=4, n_estimators=50, learning_rate=0.1)\n",
        "gdc.fit(X_train_scaled, y_train)\n",
        "prediction= gdc.predict(X_test_scaled)\n",
        "print('Gradient Boosting Classifier :', accuracy_score(y_test, prediction))"
      ],
      "execution_count": null,
      "outputs": [
        {
          "output_type": "stream",
          "text": [
            "Gradient Boosting Classifier : 0.8491620111731844\n"
          ],
          "name": "stdout"
        }
      ]
    },
    {
      "cell_type": "markdown",
      "metadata": {
        "id": "KMEVsLX0CXOh",
        "colab_type": "text"
      },
      "source": [
        "## Choose Logistic Regression model  \n",
        "\n",
        "\n"
      ]
    },
    {
      "cell_type": "code",
      "metadata": {
        "id": "etgauz_RKbdc",
        "colab_type": "code",
        "colab": {}
      },
      "source": [
        "def train_model(feat, label):\n",
        "  model = LogisticRegression()\n",
        "  model.fit(feat, label)\n",
        "  return model"
      ],
      "execution_count": null,
      "outputs": []
    },
    {
      "cell_type": "code",
      "metadata": {
        "id": "pzRjd9t0LRbt",
        "colab_type": "code",
        "colab": {
          "base_uri": "https://localhost:8080/",
          "height": 101
        },
        "outputId": "ef23f601-e6c7-4f27-cabf-90800cb3f91e"
      },
      "source": [
        "model = train_model(X_train_scaled, y_train)\n",
        "model"
      ],
      "execution_count": null,
      "outputs": [
        {
          "output_type": "execute_result",
          "data": {
            "text/plain": [
              "LogisticRegression(C=1.0, class_weight=None, dual=False, fit_intercept=True,\n",
              "                   intercept_scaling=1, l1_ratio=None, max_iter=100,\n",
              "                   multi_class='auto', n_jobs=None, penalty='l2',\n",
              "                   random_state=None, solver='lbfgs', tol=0.0001, verbose=0,\n",
              "                   warm_start=False)"
            ]
          },
          "metadata": {
            "tags": []
          },
          "execution_count": 158
        }
      ]
    },
    {
      "cell_type": "code",
      "metadata": {
        "id": "Ia2vkIlWLyM9",
        "colab_type": "code",
        "colab": {
          "base_uri": "https://localhost:8080/",
          "height": 101
        },
        "outputId": "82a1346b-424c-4a64-9ca2-c71493e6d098"
      },
      "source": [
        "model.coef_"
      ],
      "execution_count": null,
      "outputs": [
        {
          "output_type": "execute_result",
          "data": {
            "text/plain": [
              "array([[-1.86685339, -1.12338865, -1.96821356, -1.18685158,  0.43129241,\n",
              "         0.        , -0.3024865 , -0.63349784, -0.56659953,  0.        ,\n",
              "         0.25322871, -0.34325578,  0.84138521,  1.05580688,  0.3002547 ,\n",
              "         0.16710821, -1.69361624,  1.39625659,  0.32552546, -1.05246704,\n",
              "         0.25314861,  0.        ]])"
            ]
          },
          "metadata": {
            "tags": []
          },
          "execution_count": 97
        }
      ]
    },
    {
      "cell_type": "code",
      "metadata": {
        "id": "ZoG7usmKL7Yg",
        "colab_type": "code",
        "colab": {
          "base_uri": "https://localhost:8080/",
          "height": 34
        },
        "outputId": "119b4d70-010d-4b65-d972-9fe398066faf"
      },
      "source": [
        "model.intercept_"
      ],
      "execution_count": null,
      "outputs": [
        {
          "output_type": "execute_result",
          "data": {
            "text/plain": [
              "array([1.71173237])"
            ]
          },
          "metadata": {
            "tags": []
          },
          "execution_count": 98
        }
      ]
    },
    {
      "cell_type": "markdown",
      "metadata": {
        "id": "H1PgYeWqlqgV",
        "colab_type": "text"
      },
      "source": [
        "# 5. Evaluate model"
      ]
    },
    {
      "cell_type": "code",
      "metadata": {
        "id": "XXmXuymqW_nj",
        "colab_type": "code",
        "colab": {}
      },
      "source": [
        "from sklearn.metrics import accuracy_score, precision_score, recall_score, f1_score, classification_report, confusion_matrix"
      ],
      "execution_count": null,
      "outputs": []
    },
    {
      "cell_type": "code",
      "metadata": {
        "id": "IxzGESFjlAxL",
        "colab_type": "code",
        "colab": {}
      },
      "source": [
        "def eval_acc(prediction, actual):\n",
        "  acc = sum(prediction == actual) / len(actual)\n",
        "  return acc"
      ],
      "execution_count": null,
      "outputs": []
    },
    {
      "cell_type": "code",
      "metadata": {
        "id": "rZOjZXHqRaNA",
        "colab_type": "code",
        "colab": {
          "base_uri": "https://localhost:8080/",
          "height": 50
        },
        "outputId": "2f5e2281-c5e3-466f-ce18-715716c06275"
      },
      "source": [
        "prediction = model.predict(X_test_scaled)\n",
        "print(eval_acc(prediction, y_test))\n",
        "print(accuracy_score(y_test, prediction))"
      ],
      "execution_count": null,
      "outputs": [
        {
          "output_type": "stream",
          "text": [
            "0.8603351955307262\n",
            "0.8603351955307262\n"
          ],
          "name": "stdout"
        }
      ]
    },
    {
      "cell_type": "code",
      "metadata": {
        "id": "qxWaPJymZqav",
        "colab_type": "code",
        "colab": {
          "base_uri": "https://localhost:8080/",
          "height": 336
        },
        "outputId": "8af0d66c-62b0-4d2e-d23e-70489d19735f"
      },
      "source": [
        "print('accuracy score: ', accuracy_score(y_test, prediction))\n",
        "print('precision score: ', precision_score(y_test, prediction))\n",
        "print('recall score: ', recall_score(y_test, prediction))\n",
        "print('f1 score: ', f1_score(y_test, prediction))\n",
        "print('\\nClassification Report\\n', classification_report(y_test, prediction))\n",
        "print('\\nConfusion Matrix\\n', confusion_matrix(y_test, prediction))"
      ],
      "execution_count": null,
      "outputs": [
        {
          "output_type": "stream",
          "text": [
            "accuracy score:  0.8603351955307262\n",
            "precision score:  0.8095238095238095\n",
            "recall score:  0.796875\n",
            "f1 score:  0.8031496062992126\n",
            "\n",
            "Classification Report\n",
            "               precision    recall  f1-score   support\n",
            "\n",
            "           0       0.89      0.90      0.89       115\n",
            "           1       0.81      0.80      0.80        64\n",
            "\n",
            "    accuracy                           0.86       179\n",
            "   macro avg       0.85      0.85      0.85       179\n",
            "weighted avg       0.86      0.86      0.86       179\n",
            "\n",
            "\n",
            "Confusion Matrix\n",
            " [[103  12]\n",
            " [ 13  51]]\n"
          ],
          "name": "stdout"
        }
      ]
    },
    {
      "cell_type": "code",
      "metadata": {
        "id": "MDBpYuMZbP4x",
        "colab_type": "code",
        "colab": {
          "base_uri": "https://localhost:8080/",
          "height": 136
        },
        "outputId": "770c7608-2a38-4dd6-d3eb-836457dc532b"
      },
      "source": [
        "columns_ = [np.array(['Predicted', 'Predicted']), np.array(['0', '1'])]\n",
        "indexs_ = [np.array(['Actual', 'Actual']), \n",
        "           np.array(['0', '1'])]\n",
        "pd.DataFrame(confusion_matrix(y_test, prediction), columns=columns_, index=indexs_)"
      ],
      "execution_count": null,
      "outputs": [
        {
          "output_type": "execute_result",
          "data": {
            "text/html": [
              "<div>\n",
              "<style scoped>\n",
              "    .dataframe tbody tr th:only-of-type {\n",
              "        vertical-align: middle;\n",
              "    }\n",
              "\n",
              "    .dataframe tbody tr th {\n",
              "        vertical-align: top;\n",
              "    }\n",
              "\n",
              "    .dataframe thead tr th {\n",
              "        text-align: left;\n",
              "    }\n",
              "</style>\n",
              "<table border=\"1\" class=\"dataframe\">\n",
              "  <thead>\n",
              "    <tr>\n",
              "      <th></th>\n",
              "      <th></th>\n",
              "      <th colspan=\"2\" halign=\"left\">Predicted</th>\n",
              "    </tr>\n",
              "    <tr>\n",
              "      <th></th>\n",
              "      <th></th>\n",
              "      <th>0</th>\n",
              "      <th>1</th>\n",
              "    </tr>\n",
              "  </thead>\n",
              "  <tbody>\n",
              "    <tr>\n",
              "      <th rowspan=\"2\" valign=\"top\">Actual</th>\n",
              "      <th>0</th>\n",
              "      <td>103</td>\n",
              "      <td>12</td>\n",
              "    </tr>\n",
              "    <tr>\n",
              "      <th>1</th>\n",
              "      <td>13</td>\n",
              "      <td>51</td>\n",
              "    </tr>\n",
              "  </tbody>\n",
              "</table>\n",
              "</div>"
            ],
            "text/plain": [
              "         Predicted    \n",
              "                 0   1\n",
              "Actual 0       103  12\n",
              "       1        13  51"
            ]
          },
          "metadata": {
            "tags": []
          },
          "execution_count": 114
        }
      ]
    },
    {
      "cell_type": "code",
      "metadata": {
        "id": "0d_BH3wCeXzn",
        "colab_type": "code",
        "colab": {
          "base_uri": "https://localhost:8080/",
          "height": 67
        },
        "outputId": "61440161-fc5a-45ac-eae3-3801684c8728"
      },
      "source": [
        "print('precision score: ', 51/(51+12))\n",
        "print('recall score: ', 51/(51+13))\n",
        "print('f1 score: ', 2*((51/(51+12))*(51/(51+13)))/((51/(51+12))+(51/(51+13))))"
      ],
      "execution_count": null,
      "outputs": [
        {
          "output_type": "stream",
          "text": [
            "precision score:  0.8095238095238095\n",
            "recall score:  0.796875\n",
            "f1 score:  0.8031496062992126\n"
          ],
          "name": "stdout"
        }
      ]
    },
    {
      "cell_type": "markdown",
      "metadata": {
        "id": "rYMnOFNBm9nQ",
        "colab_type": "text"
      },
      "source": [
        "# 6. Run pipeline"
      ]
    },
    {
      "cell_type": "code",
      "metadata": {
        "id": "EkuhL2o_m_uH",
        "colab_type": "code",
        "colab": {}
      },
      "source": [
        "def run_pipeline():\n",
        "  # Get data\n",
        "  train_df, test_df = load_data()\n",
        "\n",
        "  # Clean & split data\n",
        "  train_data, train_label = split_data_label(clean_data(train_df))\n",
        "  test_data, test_label = split_data_label(clean_data(test_df))\n",
        "\n",
        "  # Extract feature\n",
        "  train_feat = extract_feat(train_data)\n",
        "  test_feat = extract_feat(test_data)\n",
        "\n",
        "  # Feature Scaling\n",
        "  train_feat_scaled, test_feat_scaled = feature_scaling(train_feat, test_feat)\n",
        "  \n",
        "  # Train model\n",
        "  model = train_model(train_feat_scaled, train_label)\n",
        "\n",
        "  # Prediction\n",
        "  prediction = model.predict(test_feat_scaled)\n",
        "\n",
        "  # Evaluation\n",
        "  acc = eval_acc(prediction, test_label)\n",
        "\n",
        "  return acc"
      ],
      "execution_count": null,
      "outputs": []
    },
    {
      "cell_type": "code",
      "metadata": {
        "id": "B7ZQ5-2Kznu2",
        "colab_type": "code",
        "colab": {
          "base_uri": "https://localhost:8080/",
          "height": 34
        },
        "outputId": "01f636b6-18bc-41b5-fb34-384d5565c9f5"
      },
      "source": [
        "run_pipeline()"
      ],
      "execution_count": null,
      "outputs": [
        {
          "output_type": "execute_result",
          "data": {
            "text/plain": [
              "0.8603351955307262"
            ]
          },
          "metadata": {
            "tags": []
          },
          "execution_count": 160
        }
      ]
    },
    {
      "cell_type": "markdown",
      "metadata": {
        "id": "hRo2k8xArtps",
        "colab_type": "text"
      },
      "source": [
        "#ETC."
      ]
    },
    {
      "cell_type": "markdown",
      "metadata": {
        "id": "El7fe3QpxQm7",
        "colab_type": "text"
      },
      "source": [
        "###Train, Validation and Test"
      ]
    },
    {
      "cell_type": "markdown",
      "metadata": {
        "id": "VWE_SlaVr02r",
        "colab_type": "text"
      },
      "source": [
        "![image.png](data:image/png;base64,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)"
      ]
    },
    {
      "cell_type": "markdown",
      "metadata": {
        "id": "BNlAoKk2xXKb",
        "colab_type": "text"
      },
      "source": [
        "### Cross-Validation"
      ]
    },
    {
      "cell_type": "markdown",
      "metadata": {
        "id": "7Lw2AffuxLcb",
        "colab_type": "text"
      },
      "source": [
        "![image.png](data:image/png;base64,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)"
      ]
    },
    {
      "cell_type": "markdown",
      "metadata": {
        "id": "0tgXVLqa7lyk",
        "colab_type": "text"
      },
      "source": [
        "source: https://scikit-learn.org/stable/modules/cross_validation.html"
      ]
    },
    {
      "cell_type": "markdown",
      "metadata": {
        "id": "RyeRFq08xoGy",
        "colab_type": "text"
      },
      "source": [
        "### Parameter vs. Hyperparameter"
      ]
    },
    {
      "cell_type": "code",
      "metadata": {
        "id": "5-FQdDnuxHk5",
        "colab_type": "code",
        "colab": {
          "base_uri": "https://localhost:8080/",
          "height": 101
        },
        "outputId": "2cc5da50-f662-4648-a103-15ecec28f2e2"
      },
      "source": [
        "#Hyperparameter\n",
        "model_example = LogisticRegression(random_state=0, penalty='l2', max_iter=100)\n",
        "model_example.fit(X_train_scaled, y_train)"
      ],
      "execution_count": null,
      "outputs": [
        {
          "output_type": "execute_result",
          "data": {
            "text/plain": [
              "LogisticRegression(C=1.0, class_weight=None, dual=False, fit_intercept=True,\n",
              "                   intercept_scaling=1, l1_ratio=None, max_iter=100,\n",
              "                   multi_class='auto', n_jobs=None, penalty='l2',\n",
              "                   random_state=0, solver='lbfgs', tol=0.0001, verbose=0,\n",
              "                   warm_start=False)"
            ]
          },
          "metadata": {
            "tags": []
          },
          "execution_count": 135
        }
      ]
    },
    {
      "cell_type": "code",
      "metadata": {
        "id": "2VMwxkp412hs",
        "colab_type": "code",
        "colab": {
          "base_uri": "https://localhost:8080/",
          "height": 101
        },
        "outputId": "050b3277-4f49-46e2-8c7e-0f2e4af1d9e6"
      },
      "source": [
        "#Parameter\n",
        "print(model_example.coef_)\n",
        "print(model_example.intercept_)"
      ],
      "execution_count": null,
      "outputs": [
        {
          "output_type": "stream",
          "text": [
            "[[-1.86685339 -1.12338865 -1.96821356 -1.18685158  0.43129241  0.\n",
            "  -0.3024865  -0.63349784 -0.56659953  0.          0.25322871 -0.34325578\n",
            "   0.84138521  1.05580688  0.3002547   0.16710821 -1.69361624  1.39625659\n",
            "   0.32552546 -1.05246704  0.25314861  0.        ]]\n",
            "[1.71173237]\n"
          ],
          "name": "stdout"
        }
      ]
    }
  ]
}