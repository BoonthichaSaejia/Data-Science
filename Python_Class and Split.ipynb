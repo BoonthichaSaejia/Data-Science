{
 "cells": [
  {
   "cell_type": "code",
   "execution_count": 56,
   "metadata": {},
   "outputs": [],
   "source": [
    "import math"
   ]
  },
  {
   "cell_type": "code",
   "execution_count": 57,
   "metadata": {},
   "outputs": [],
   "source": [
    "class Employee:\n",
    "    def __init__(dead,firstname,lastname,salary,jobtitle,age):\n",
    "        dead.firstName=firstname\n",
    "        dead.lastname=lastname\n",
    "        dead.salary=salary\n",
    "        dead.jobtitle=jobtitle\n",
    "        dead.age=age\n",
    "    def getAge(dead):\n",
    "        return dead.age\n",
    "    def yearlySalary(dead):\n",
    "        return dead.salary*26\n",
    "    def fullName(dead):\n",
    "        return dead.firstName+(\" \")+dead.lastname\n",
    "    def getJob(dead):\n",
    "        return dead.jobtitle\n",
    "    def getSalary(dead):\n",
    "        return dead.salary\n",
    "    "
   ]
  },
  {
   "cell_type": "code",
   "execution_count": 58,
   "metadata": {},
   "outputs": [],
   "source": [
    "def main():\n",
    "    emp1=Employee(\"James\",\"Bond\",1500,\"faculty\",50)\n",
    "    print(\"Employee Name: \",emp1.fullName())\n",
    "    print(\"Age: \",emp1.getAge())\n",
    "    print(\"Yearly Salary: \",emp1.yearlySalary())"
   ]
  },
  {
   "cell_type": "code",
   "execution_count": 59,
   "metadata": {},
   "outputs": [
    {
     "name": "stdout",
     "output_type": "stream",
     "text": [
      "Employee Name:  James Bond\n",
      "Age:  50\n",
      "Yearly Salary:  39000\n"
     ]
    }
   ],
   "source": [
    "main()"
   ]
  },
  {
   "cell_type": "code",
   "execution_count": 68,
   "metadata": {},
   "outputs": [],
   "source": [
    "def makeEmployee(infoStr):\n",
    "    firstname, lastname, salary, jobtitle, age=infoStr.split(\",\")\n",
    "    salary=float(salary)\n",
    "    age=int(age)\n",
    "    return Employee(firstname,lastname,salary,jobtitle,age)"
   ]
  },
  {
   "cell_type": "code",
   "execution_count": 69,
   "metadata": {},
   "outputs": [],
   "source": [
    "def main_2():\n",
    "    filename=input(\"Enter Employee Filename: \")\n",
    "    infile=open(filename,'r')\n",
    "    oldest=makeEmployee(infile.readline())\n",
    "    for line_1 in infile:\n",
    "        s=makeEmployee(line_1)\n",
    "        if s.getAge()>oldest.getAge():\n",
    "            oldest=s\n",
    "    infile.close()\n",
    "    print(\"The oldest employee is: \", oldest.fullName())\n",
    "    print(\"Their job title is: \", oldest.getJob())\n",
    "    print(\"Age: \", oldest.getAge())\n",
    "    infile=open(filename,'r')\n",
    "    richest=makeEmployee(infile.readline())\n",
    "    for line_2 in infile:\n",
    "        t=makeEmployee(line_2)\n",
    "        if t.getSalary()>richest.getSalary():\n",
    "            richest=t\n",
    "    print(\"The richest employee is: \", richest.fullName())\n",
    "    print(\"Their bi-weekly salary is: \", format(richest.getSalary(),\".1f\"))\n",
    "    print(\"Yearly salary: $\", format(richest.yearlySalary(),\".2f\"))"
   ]
  },
  {
   "cell_type": "code",
   "execution_count": 70,
   "metadata": {},
   "outputs": [
    {
     "name": "stdout",
     "output_type": "stream",
     "text": [
      "Enter Employee Filename: employees.txt\n",
      "The oldest employee is:  Denny Dibblebit\n",
      "Their job title is:  architect\n",
      "Age:  56\n",
      "The richest employee is:  Suzanne Sommers\n",
      "Their bi-weekly salary is:  2600.0\n",
      "Yearly salary: $ 67600.00\n"
     ]
    }
   ],
   "source": [
    "main_2()"
   ]
  },
  {
   "cell_type": "code",
   "execution_count": null,
   "metadata": {},
   "outputs": [],
   "source": []
  }
 ],
 "metadata": {
  "kernelspec": {
   "display_name": "Python 3",
   "language": "python",
   "name": "python3"
  },
  "language_info": {
   "codemirror_mode": {
    "name": "ipython",
    "version": 3
   },
   "file_extension": ".py",
   "mimetype": "text/x-python",
   "name": "python",
   "nbconvert_exporter": "python",
   "pygments_lexer": "ipython3",
   "version": "3.7.2"
  }
 },
 "nbformat": 4,
 "nbformat_minor": 2
}
